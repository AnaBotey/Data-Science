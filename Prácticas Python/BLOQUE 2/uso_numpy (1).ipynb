{
 "cells": [
  {
   "cell_type": "markdown",
   "metadata": {},
   "source": [
    "## Aplicación de NumPy\n",
    "\n",
    "-----------------------\n",
    "\n",
    "#### Ejemplo 1\n",
    "\n",
    "Los datos contenidos en el fichero [datos.txt](./datos.txt) describe las poblaciones de tres tipos de serpientes en el sur de Africa durante 20 años."
   ]
  },
  {
   "cell_type": "code",
   "execution_count": 4,
   "metadata": {},
   "outputs": [
    {
     "data": {
      "text/plain": [
       "array([[  2000.,  30000.,   3000.,  38300.],\n",
       "       [  2001.,  37200.,   6100.,  48200.],\n",
       "       [  2002.,  60200.,   9800.,  31600.],\n",
       "       [  2003.,  77300.,  36200.,  38200.],\n",
       "       [  2004.,  36300.,  69300.,  30600.],\n",
       "       [  2005.,  20600.,  31700.,  49800.],\n",
       "       [  2006.,  18100.,  19000.,  38600.],\n",
       "       [  2007.,  21300.,  13000.,  32300.],\n",
       "       [  2008.,  22000.,   8300.,  43600.],\n",
       "       [  2009.,  26300.,   9100.,  32100.],\n",
       "       [  2010.,  27100.,   7300.,  36000.],\n",
       "       [  2011.,  30300.,   8000.,  36800.],\n",
       "       [  2012.,  67000.,  12300.,  33800.],\n",
       "       [  2013.,  76600.,  19600.,  30900.],\n",
       "       [  2014.,  62300.,  36700.,  49300.],\n",
       "       [  2015.,  19600.,  61100.,  39000.],\n",
       "       [  2016.,  11200.,  29700.,  36700.],\n",
       "       [  2017.,   7600.,  16800.,  41800.],\n",
       "       [  2018.,  13600.,   9700.,  33300.],\n",
       "       [  2019.,  16200.,  10100.,  31300.],\n",
       "       [  2020.,  23700.,   8600.,  47300.]])"
      ]
     },
     "execution_count": 4,
     "metadata": {},
     "output_type": "execute_result"
    }
   ],
   "source": [
    "import numpy as np\n",
    "data = np.loadtxt('./datos.txt')    # carga de los datos\n",
    "data"
   ]
  },
  {
   "cell_type": "markdown",
   "metadata": {},
   "source": [
    "* Cálculo de la media de población de cada tipo a lo largo del tiempo.\n"
   ]
  },
  {
   "cell_type": "code",
   "execution_count": 6,
   "metadata": {},
   "outputs": [
    {
     "data": {
      "text/plain": [
       "(20257.142857142859, 20257.142857142859, 38071.428571428572)"
      ]
     },
     "execution_count": 6,
     "metadata": {},
     "output_type": "execute_result"
    }
   ],
   "source": [
    "#media\n",
    "#una forma...\n",
    "suma = np.array(sum(data[: :]))\n",
    "medias = suma/len(data)\n",
    "medias\n",
    "\n",
    "#otra forma...\n",
    "\n",
    "#media de años\n",
    "np.mean(data[:, 0])\n",
    "\n",
    "\n",
    "#media poblaciones\n",
    "p1=np.mean(data[:, 2])\n",
    "p2 = np.mean(data[:, 2])\n",
    "p3 = np.mean(data[:, 3])\n",
    "p1, p2, p3\n",
    "\n",
    "\n",
    "\n"
   ]
  },
  {
   "cell_type": "markdown",
   "metadata": {},
   "source": [
    "* Cálculo de la __desviación estándar__ de la muestra. Se trata de una medida de dispersión para variables. Muestra la agrupación de los datos alrededor de un valor central (la media o promedio)."
   ]
  },
  {
   "cell_type": "code",
   "execution_count": 7,
   "metadata": {},
   "outputs": [
    {
     "data": {
      "text/plain": [
       "(21173.559861020269, 17581.932594043712, 6209.9108848097749)"
      ]
     },
     "execution_count": 7,
     "metadata": {},
     "output_type": "execute_result"
    }
   ],
   "source": [
    "#desviacion estandar\n",
    "\n",
    "dp1 = np.std(data[:, 1])\n",
    "dp2 = np.std(data[:, 2])\n",
    "dp3= np.std(data[:, 3])\n",
    "dp1, dp2, dp3"
   ]
  },
  {
   "cell_type": "markdown",
   "metadata": {},
   "source": [
    "* ¿Qué especie ha tenido más población por año?"
   ]
  },
  {
   "cell_type": "code",
   "execution_count": 28,
   "metadata": {},
   "outputs": [
    {
     "data": {
      "text/plain": [
       "[array([[[1]]]), array([[[2]]]), array([[[3]]])]"
      ]
     },
     "execution_count": 28,
     "metadata": {},
     "output_type": "execute_result"
    }
   ],
   "source": [
    "posicion = np.meshgrid(1, 2, 3)\n",
    "posicion"
   ]
  },
  {
   "cell_type": "code",
   "execution_count": 67,
   "metadata": {},
   "outputs": [
    {
     "name": "stdout",
     "output_type": "stream",
     "text": [
      "38300 [3]\n",
      "48200 [3]\n",
      "60200 [1]\n",
      "77300 [1]\n",
      "69300 [2]\n",
      "49800 [3]\n",
      "38600 [3]\n",
      "32300 [3]\n",
      "43600 [3]\n",
      "32100 [3]\n",
      "36000 [3]\n",
      "36800 [3]\n",
      "67000 [1]\n",
      "76600 [1]\n",
      "62300 [1]\n",
      "61100 [2]\n",
      "36700 [2 3]\n",
      "41800 [3]\n",
      "33300 [3]\n",
      "31300 [3]\n",
      "47300 [3]\n"
     ]
    }
   ],
   "source": [
    "\n",
    "for i in range(len(data)):\n",
    "    maximo = np.max(data[i][1:4])\n",
    "    maximo= int(maximo)\n",
    "    a =[np.where(data == maximo)]\n",
    "    print(maximo, a[0][1])\n",
    "    \n",
    "    \n",
    "    \n",
    "   "
   ]
  },
  {
   "cell_type": "markdown",
   "metadata": {},
   "source": [
    "------------------------"
   ]
  },
  {
   "cell_type": "code",
   "execution_count": null,
   "metadata": {
    "collapsed": true
   },
   "outputs": [],
   "source": []
  }
 ],
 "metadata": {
  "anaconda-cloud": {},
  "kernelspec": {
   "display_name": "Python 3",
   "language": "python",
   "name": "python3"
  },
  "language_info": {
   "codemirror_mode": {
    "name": "ipython",
    "version": 3
   },
   "file_extension": ".py",
   "mimetype": "text/x-python",
   "name": "python",
   "nbconvert_exporter": "python",
   "pygments_lexer": "ipython3",
   "version": "3.6.1"
  },
  "toc": {
   "colors": {
    "hover_highlight": "#DAA520",
    "running_highlight": "#FF0000",
    "selected_highlight": "#FFD700"
   },
   "moveMenuLeft": true,
   "nav_menu": {
    "height": "68px",
    "width": "252px"
   },
   "navigate_menu": true,
   "number_sections": true,
   "sideBar": true,
   "threshold": 4,
   "toc_cell": false,
   "toc_section_display": "block",
   "toc_window_display": false,
   "widenNotebook": false
  }
 },
 "nbformat": 4,
 "nbformat_minor": 1
}
