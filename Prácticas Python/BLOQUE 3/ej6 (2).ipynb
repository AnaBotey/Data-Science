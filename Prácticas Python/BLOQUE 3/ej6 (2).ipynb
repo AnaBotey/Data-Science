{
 "cells": [
  {
   "cell_type": "markdown",
   "metadata": {},
   "source": [
    "# Ejercicios "
   ]
  },
  {
   "cell_type": "markdown",
   "metadata": {},
   "source": [
    "#### 1 Ejercicio"
   ]
  },
  {
   "cell_type": "markdown",
   "metadata": {},
   "source": [
    "El fichero [tips.txt](./datos/tips.txt) recoge los datos asociados a las reservas de un restaurante durante un periodo de tiempo. Muestra los datos de 6 variables numéricas:\n",
    "\n",
    "* El precio de la factura, \n",
    "* La propina asociada a la factura, \n",
    "* El sexo de la persona que hizo la reserva (1=Hombre, 2=Mujer),\n",
    "* Si es una reserva para fumadores o no (0 = No Fumadores, 1 = Fumadores),\n",
    "* El día de la semana (1 = Lunes, ... , 7 = Domingo),\n",
    "* El número de comensales.\n",
    "\n",
    "Haz una pequeña exploración de los datos del fichero. Observa que el separador de datos es el símbolo coma(,).\n",
    "\n",
    "Realiza la carga de los datos con la función __loadtxt__ del módulo __NumPy__. El array devuelto por __loadtxt__ se llamará __tips__."
   ]
  },
  {
   "cell_type": "code",
   "execution_count": 2,
   "metadata": {
    "collapsed": true
   },
   "outputs": [],
   "source": [
    "# Imports necesarios\n",
    "import numpy as np                         # importación de numpy\n",
    "import matplotlib as mpl                   # importación de matplotlib con alias mpl\n",
    "import matplotlib.pyplot as plt\n",
    "%matplotlib inline"
   ]
  },
  {
   "cell_type": "code",
   "execution_count": 3,
   "metadata": {},
   "outputs": [
    {
     "data": {
      "text/plain": [
       "array([[ 16.99,   1.01,   2.  ,   0.  ,   7.  ,   2.  ],\n",
       "       [ 10.34,   1.66,   1.  ,   0.  ,   7.  ,   3.  ],\n",
       "       [ 21.01,   3.5 ,   1.  ,   0.  ,   7.  ,   3.  ],\n",
       "       ..., \n",
       "       [ 22.67,   2.  ,   1.  ,   1.  ,   6.  ,   2.  ],\n",
       "       [ 17.82,   1.75,   1.  ,   0.  ,   6.  ,   2.  ],\n",
       "       [ 18.78,   3.  ,   2.  ,   0.  ,   4.  ,   2.  ]])"
      ]
     },
     "execution_count": 3,
     "metadata": {},
     "output_type": "execute_result"
    }
   ],
   "source": [
    "# Sol - realiza la carga\n",
    "\n",
    "tips = np.loadtxt('./tips.txt', delimiter = ',')\n",
    "tips\n"
   ]
  },
  {
   "cell_type": "markdown",
   "metadata": {},
   "source": [
    "#### 2 Ejercicio\n",
    "\n",
    "- ¿Cuántas filas hemos cargado?\n",
    "- Muestra las 10 primeras filas"
   ]
  },
  {
   "cell_type": "code",
   "execution_count": 4,
   "metadata": {},
   "outputs": [
    {
     "data": {
      "text/plain": [
       "244"
      ]
     },
     "execution_count": 4,
     "metadata": {},
     "output_type": "execute_result"
    }
   ],
   "source": [
    "# Sol\n",
    "filas = tips.shape[0] #x axes\n",
    "filas\n"
   ]
  },
  {
   "cell_type": "code",
   "execution_count": 5,
   "metadata": {},
   "outputs": [
    {
     "data": {
      "text/plain": [
       "array([[ 16.99,   1.01,   2.  ,   0.  ,   7.  ,   2.  ],\n",
       "       [ 10.34,   1.66,   1.  ,   0.  ,   7.  ,   3.  ],\n",
       "       [ 21.01,   3.5 ,   1.  ,   0.  ,   7.  ,   3.  ],\n",
       "       [ 23.68,   3.31,   1.  ,   0.  ,   7.  ,   2.  ],\n",
       "       [ 24.59,   3.61,   2.  ,   0.  ,   7.  ,   4.  ],\n",
       "       [ 25.29,   4.71,   1.  ,   0.  ,   7.  ,   4.  ],\n",
       "       [  8.77,   2.  ,   1.  ,   0.  ,   7.  ,   2.  ],\n",
       "       [ 26.88,   3.12,   1.  ,   0.  ,   7.  ,   4.  ],\n",
       "       [ 15.04,   1.96,   1.  ,   0.  ,   7.  ,   2.  ],\n",
       "       [ 14.78,   3.23,   1.  ,   0.  ,   7.  ,   2.  ]])"
      ]
     },
     "execution_count": 5,
     "metadata": {},
     "output_type": "execute_result"
    }
   ],
   "source": [
    "tips[:10, :]"
   ]
  },
  {
   "cell_type": "markdown",
   "metadata": {},
   "source": [
    "#### 3 Ejercicio\n",
    "\n",
    "- Calcula el importe máximo y mínimo de las facturas. El importe de la factura es la columna que ocupa la posición 0 en el array __tips__.\n",
    "\n",
    "- Representa gráficamente mediante un diagrama de caja los datos correspondientes al importe de la factura. Puedes utilizar la función __boxplot__.\n"
   ]
  },
  {
   "cell_type": "code",
   "execution_count": 6,
   "metadata": {},
   "outputs": [
    {
     "data": {
      "text/plain": [
       "50.810000000000002"
      ]
     },
     "execution_count": 6,
     "metadata": {},
     "output_type": "execute_result"
    }
   ],
   "source": [
    "# Sol importe máximo de la factura\n",
    "importemax = tips[:,0].max()\n",
    "importemax\n"
   ]
  },
  {
   "cell_type": "code",
   "execution_count": 7,
   "metadata": {},
   "outputs": [
    {
     "data": {
      "text/plain": [
       "3.0699999999999998"
      ]
     },
     "execution_count": 7,
     "metadata": {},
     "output_type": "execute_result"
    }
   ],
   "source": [
    "# Sol importe mínimo de la factura\n",
    "importemin = tips[:,0].min()\n",
    "importemin"
   ]
  },
  {
   "cell_type": "code",
   "execution_count": 8,
   "metadata": {},
   "outputs": [
    {
     "data": {
      "image/png": "[encoded data removed]",
      "text/plain": [
       "<matplotlib.figure.Figure at 0x7efee48>"
      ]
     },
     "metadata": {},
     "output_type": "display_data"
    }
   ],
   "source": [
    "# Sol representación gráfica\n",
    "plt.boxplot(tips[:,0], patch_artist=True);\n"
   ]
  },
  {
   "cell_type": "markdown",
   "metadata": {},
   "source": [
    "#### 4 Ejercicio\n",
    "\n",
    "a) Representa gráficamente la relación entre el importe de la factura y la propina. Genera un diagrama de dispersión utilizando la función __scatter__.\n",
    "\n"
   ]
  },
  {
   "cell_type": "code",
   "execution_count": 10,
   "metadata": {},
   "outputs": [
    {
     "data": {
      "image/png": "[encoded data removed]",
      "text/plain": [
       "<matplotlib.figure.Figure at 0x7f5f128>"
      ]
     },
     "metadata": {},
     "output_type": "display_data"
    }
   ],
   "source": [
    "# Sol a)\n",
    "plt.scatter(tips[:,0], tips[:,1], color='b');\n"
   ]
  },
  {
   "cell_type": "markdown",
   "metadata": {},
   "source": [
    "b) Representa gráficamente la relación entre el importe de la factura y la propina. Genera un diagrama de dispersión utilizando la función __scatter__. Añade una tercera dimensión que será representada mediante distintos colores. La tercera dimensión se corresponde al sexo. Así podremos ver las facturas de los hombres y las de las mujeres. El sexo se corresponde con la variable en la posición 2 del array __tips__."
   ]
  },
  {
   "cell_type": "code",
   "execution_count": 69,
   "metadata": {},
   "outputs": [
    {
     "data": {
      "image/png": "[encoded data removed]",
      "text/plain": [
       "<matplotlib.figure.Figure at 0x819a908>"
      ]
     },
     "metadata": {},
     "output_type": "display_data"
    }
   ],
   "source": [
    "# Sol b)\n",
    "#facturas-propinas-sexo\n",
    "\n",
    "#(ax1, ax2) = plt.subplots(nrows = 2, ncols=1, figsize=(10,5))\n",
    "ax1 = plt.scatter(tips[:,0], tips[:,1], color='b');\n",
    "\n",
    "ax2= plt.scatter(tips[:,0], tips[:,2] , color='r');\n",
    "\n"
   ]
  },
  {
   "cell_type": "markdown",
   "metadata": {},
   "source": [
    "---------------------"
   ]
  },
  {
   "cell_type": "code",
   "execution_count": null,
   "metadata": {
    "collapsed": true
   },
   "outputs": [],
   "source": []
  }
 ],
 "metadata": {
  "anaconda-cloud": {},
  "kernelspec": {
   "display_name": "Python 3",
   "language": "python",
   "name": "python3"
  },
  "language_info": {
   "codemirror_mode": {
    "name": "ipython",
    "version": 3
   },
   "file_extension": ".py",
   "mimetype": "text/x-python",
   "name": "python",
   "nbconvert_exporter": "python",
   "pygments_lexer": "ipython3",
   "version": "3.6.1"
  },
  "toc": {
   "colors": {
    "hover_highlight": "#DAA520",
    "running_highlight": "#FF0000",
    "selected_highlight": "#FFD700"
   },
   "moveMenuLeft": true,
   "nav_menu": {
    "height": "105px",
    "width": "252px"
   },
   "navigate_menu": true,
   "number_sections": true,
   "sideBar": true,
   "threshold": 4,
   "toc_cell": false,
   "toc_section_display": "block",
   "toc_window_display": false,
   "widenNotebook": false
  }
 },
 "nbformat": 4,
 "nbformat_minor": 1
}
