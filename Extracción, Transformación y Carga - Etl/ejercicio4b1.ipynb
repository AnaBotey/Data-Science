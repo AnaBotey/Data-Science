{
 "cells": [
  {
   "cell_type": "markdown",
   "metadata": {},
   "source": [
    "# Ejercicio 4b\n",
    "# ============="
   ]
  },
  {
   "cell_type": "markdown",
   "metadata": {},
   "source": [
    "Lectura de datos"
   ]
  },
  {
   "cell_type": "code",
   "execution_count": 52,
   "metadata": {
    "collapsed": false
   },
   "outputs": [],
   "source": [
    "import re\n",
    "import datetime\n",
    "import os\n",
    "\n",
    "from pyspark.sql import Row\n",
    "from pyspark import SparkContext\n",
    "\n",
    "month_map = {'Jan': 1, 'Feb': 2, 'Mar':3, 'Apr':4, 'May':5, 'Jun':6, 'Jul':7,\n",
    "    'Aug':8,  'Sep': 9, 'Oct':10, 'Nov': 11, 'Dec': 12}\n",
    "\n",
    "APACHE_ACCESS_LOG_PATTERN = '^(\\S+) (\\S+) (\\S+) \\[([\\w:/]+\\s[+\\-]\\d{4})\\] \"(\\S+) (\\S+)\\s*(\\S*)\" (\\d{3}) (\\S+)'\n",
    "\n",
    "\n",
    "\n"
   ]
  },
  {
   "cell_type": "code",
   "execution_count": 2,
   "metadata": {
    "collapsed": true
   },
   "outputs": [],
   "source": [
    "def parse_apache_time(s):\n",
    "\n",
    "    \"\"\" Convert Apache time format into a Python datetime objectArgs:\n",
    "        s (str): date and time in Apache time format\n",
    "    Returns:\n",
    "        datetime: datetime object (ignore timezone for now)\n",
    "    \"\"\"\n",
    "    return datetime.datetime(int(s[7:11]),\n",
    "                             month_map[s[3:6]],\n",
    "                             int(s[0:2]),\n",
    "                             int(s[12:14]),\n",
    "                             int(s[15:17]),\n",
    "                             int(s[18:20]))"
   ]
  },
  {
   "cell_type": "code",
   "execution_count": 3,
   "metadata": {
    "collapsed": true
   },
   "outputs": [],
   "source": [
    "def parseApacheLogLine(logline):\n",
    "\n",
    "    \"\"\" Parse a line in the Apache Common Log format\n",
    "    Args:\n",
    "        logline (str): a line of text in the Apache Common Log format\n",
    "    Returns:\n",
    "        tuple: either a dictionary containing the parts of the Apache Access Log and 1,\n",
    "               or the original invalid log line and 0\n",
    "    \"\"\"\n",
    "\n",
    "    # A regular expression pattern to extract fields from the log line\n",
    "\n",
    "    match = re.search(APACHE_ACCESS_LOG_PATTERN, logline)\n",
    "    if match is None:\n",
    "        return (logline, 0)\n",
    "    size_field = match.group(9)\n",
    "    if size_field == '-':\n",
    "        size = long(0)\n",
    "    else:\n",
    "        size = long(match.group(9))\n",
    "    return (Row(\n",
    "        host          = match.group(1),\n",
    "        client_identd = match.group(2),\n",
    "        user_id       = match.group(3),\n",
    "        date_time     = parse_apache_time(match.group(4)),\n",
    "        method        = match.group(5),\n",
    "        endpoint      = match.group(6),\n",
    "        protocol      = match.group(7),\n",
    "        response_code = int(match.group(8)),\n",
    "        content_size  = size\n",
    "    ), 1)\n"
   ]
  },
  {
   "cell_type": "code",
   "execution_count": 4,
   "metadata": {
    "collapsed": false
   },
   "outputs": [],
   "source": [
    "def parseLogs():\n",
    "\n",
    "    \"\"\" Read and parse log file \"\"\"\n",
    "    logFile = os.path.join( 'apache.access.log_small-')\n",
    "    parsed_logs = (sc\n",
    "                   .textFile(logFile)\n",
    "                   .map(parseApacheLogLine)\n",
    "                   .cache())\n",
    "\n",
    "    access_logs = (parsed_logs\n",
    "                   .filter(lambda s: s[1] == 1)\n",
    "                   .map(lambda s: s[0])\n",
    "                   .cache())\n",
    "\n",
    "    failed_logs = (parsed_logs\n",
    "                   .filter(lambda s: s[1] == 0)\n",
    "                   .map(lambda s: s[0]))\n",
    "    failed_logs_count = failed_logs.count()\n",
    "    if failed_logs_count > 0:\n",
    "        print 'Number of invalid logline: %d' % failed_logs.count()\n",
    "        for line in failed_logs.take(20):\n",
    "            print 'Invalid logline: %s' % line\n",
    "\n",
    "    print 'Read %d lines, successfully parsed %d lines, failed to parse %d lines' % (parsed_logs.count(), access_logs.count(), failed_logs.count())\n",
    "    return parsed_logs, access_logs, failed_logs\n",
    "\n"
   ]
  },
  {
   "cell_type": "code",
   "execution_count": 5,
   "metadata": {
    "collapsed": false
   },
   "outputs": [
    {
     "name": "stdout",
     "output_type": "stream",
     "text": [
      "Read 3432 lines, successfully parsed 3432 lines, failed to parse 0 lines\n"
     ]
    }
   ],
   "source": [
    "sc= SparkContext()\n",
    "\n",
    "parsed_logs, access_logs, failed_logs = parseLogs()"
   ]
  },
  {
   "cell_type": "code",
   "execution_count": 6,
   "metadata": {
    "collapsed": false
   },
   "outputs": [
    {
     "data": {
      "text/plain": [
       "[(Row(client_identd=u'-', content_size=1839L, date_time=datetime.datetime(1995, 8, 1, 0, 0, 1), endpoint=u'/shuttle/missions/sts-68/news/sts-68-mcc-05.txt', host=u'in24.inetnebr.com', method=u'GET', protocol=u'HTTP/1.0', response_code=200, user_id=u'-'),\n",
       "  1),\n",
       " (Row(client_identd=u'-', content_size=0L, date_time=datetime.datetime(1995, 8, 1, 0, 0, 7), endpoint=u'/', host=u'uplherc.upl.com', method=u'GET', protocol=u'HTTP/1.0', response_code=304, user_id=u'-'),\n",
       "  1),\n",
       " (Row(client_identd=u'-', content_size=0L, date_time=datetime.datetime(1995, 8, 1, 0, 0, 8), endpoint=u'/images/ksclogo-medium.gif', host=u'uplherc.upl.com', method=u'GET', protocol=u'HTTP/1.0', response_code=304, user_id=u'-'),\n",
       "  1),\n",
       " (Row(client_identd=u'-', content_size=0L, date_time=datetime.datetime(1995, 8, 1, 0, 0, 8), endpoint=u'/images/MOSAIC-logosmall.gif', host=u'uplherc.upl.com', method=u'GET', protocol=u'HTTP/1.0', response_code=304, user_id=u'-'),\n",
       "  1),\n",
       " (Row(client_identd=u'-', content_size=0L, date_time=datetime.datetime(1995, 8, 1, 0, 0, 8), endpoint=u'/images/USA-logosmall.gif', host=u'uplherc.upl.com', method=u'GET', protocol=u'HTTP/1.0', response_code=304, user_id=u'-'),\n",
       "  1)]"
      ]
     },
     "execution_count": 6,
     "metadata": {},
     "output_type": "execute_result"
    }
   ],
   "source": [
    "#cogemos una muestra de 5 filas\n",
    "\n",
    "parsed_logs.take(5)"
   ]
  },
  {
   "cell_type": "markdown",
   "metadata": {},
   "source": [
    "# 1. Minimo, máximo y media del tamaño de las peticiones"
   ]
  },
  {
   "cell_type": "code",
   "execution_count": 7,
   "metadata": {
    "collapsed": false
   },
   "outputs": [],
   "source": [
    "#definir un contexto spark\n",
    "from pyspark.sql import SQLContext\n",
    "sqlContext = SQLContext(sc)"
   ]
  },
  {
   "cell_type": "code",
   "execution_count": 8,
   "metadata": {
    "collapsed": false
   },
   "outputs": [
    {
     "data": {
      "text/plain": [
       "[Row(client_identd=u'-', content_size=1839, date_time=datetime.datetime(1995, 8, 1, 0, 0, 1), endpoint=u'/shuttle/missions/sts-68/news/sts-68-mcc-05.txt', host=u'in24.inetnebr.com', method=u'GET', protocol=u'HTTP/1.0', response_code=200, user_id=u'-'),\n",
       " Row(client_identd=u'-', content_size=0, date_time=datetime.datetime(1995, 8, 1, 0, 0, 7), endpoint=u'/', host=u'uplherc.upl.com', method=u'GET', protocol=u'HTTP/1.0', response_code=304, user_id=u'-'),\n",
       " Row(client_identd=u'-', content_size=0, date_time=datetime.datetime(1995, 8, 1, 0, 0, 8), endpoint=u'/images/ksclogo-medium.gif', host=u'uplherc.upl.com', method=u'GET', protocol=u'HTTP/1.0', response_code=304, user_id=u'-'),\n",
       " Row(client_identd=u'-', content_size=0, date_time=datetime.datetime(1995, 8, 1, 0, 0, 8), endpoint=u'/images/MOSAIC-logosmall.gif', host=u'uplherc.upl.com', method=u'GET', protocol=u'HTTP/1.0', response_code=304, user_id=u'-'),\n",
       " Row(client_identd=u'-', content_size=0, date_time=datetime.datetime(1995, 8, 1, 0, 0, 8), endpoint=u'/images/USA-logosmall.gif', host=u'uplherc.upl.com', method=u'GET', protocol=u'HTTP/1.0', response_code=304, user_id=u'-')]"
      ]
     },
     "execution_count": 8,
     "metadata": {},
     "output_type": "execute_result"
    }
   ],
   "source": [
    "#Generar dataframe RDD\n",
    "\n",
    "top_access_logs=sqlContext.createDataFrame(access_logs)\n",
    "top_access_logs.take(5)"
   ]
  },
  {
   "cell_type": "code",
   "execution_count": 9,
   "metadata": {
    "collapsed": false
   },
   "outputs": [],
   "source": [
    "interactions_df = sqlContext.createDataFrame(access_logs)"
   ]
  },
  {
   "cell_type": "code",
   "execution_count": 10,
   "metadata": {
    "collapsed": false
   },
   "outputs": [],
   "source": [
    "interactions_df.registerTempTable(\"interactions\")"
   ]
  },
  {
   "cell_type": "code",
   "execution_count": 11,
   "metadata": {
    "collapsed": false
   },
   "outputs": [
    {
     "name": "stdout",
     "output_type": "stream",
     "text": [
      "+-----------------+\n",
      "|max(content_size)|\n",
      "+-----------------+\n",
      "|           887988|\n",
      "+-----------------+\n",
      "\n"
     ]
    }
   ],
   "source": [
    "maximo = sqlContext.sql(\"\"\"SELECT max(content_size) FROM interactions\"\"\")\n",
    "\n",
    "\n",
    "maximo.show()"
   ]
  },
  {
   "cell_type": "code",
   "execution_count": 12,
   "metadata": {
    "collapsed": false
   },
   "outputs": [
    {
     "name": "stdout",
     "output_type": "stream",
     "text": [
      "+-----------------+\n",
      "|min(content_size)|\n",
      "+-----------------+\n",
      "|                0|\n",
      "+-----------------+\n",
      "\n"
     ]
    }
   ],
   "source": [
    "minimo = sqlContext.sql(\"\"\"SELECT min (content_size) FROM interactions\"\"\")\n",
    "\n",
    "minimo.show()"
   ]
  },
  {
   "cell_type": "code",
   "execution_count": 13,
   "metadata": {
    "collapsed": false
   },
   "outputs": [
    {
     "name": "stdout",
     "output_type": "stream",
     "text": [
      "+------------------+\n",
      "| avg(content_size)|\n",
      "+------------------+\n",
      "|16051.863636363636|\n",
      "+------------------+\n",
      "\n"
     ]
    }
   ],
   "source": [
    "media = sqlContext.sql(\"\"\"SELECT mean(content_size) FROM interactions\"\"\")\n",
    "media.show()"
   ]
  },
  {
   "cell_type": "markdown",
   "metadata": {},
   "source": [
    " Otra forma de calcularlo:"
   ]
  },
  {
   "cell_type": "code",
   "execution_count": 14,
   "metadata": {
    "collapsed": false
   },
   "outputs": [
    {
     "data": {
      "text/plain": [
       "[Row(client_identd=u'-', content_size=1839L, date_time=datetime.datetime(1995, 8, 1, 0, 0, 1), endpoint=u'/shuttle/missions/sts-68/news/sts-68-mcc-05.txt', host=u'in24.inetnebr.com', method=u'GET', protocol=u'HTTP/1.0', response_code=200, user_id=u'-')]"
      ]
     },
     "execution_count": 14,
     "metadata": {},
     "output_type": "execute_result"
    }
   ],
   "source": [
    "\n",
    "#parsed_logs.take(1)\n",
    "access_logs.take(1)"
   ]
  },
  {
   "cell_type": "code",
   "execution_count": 15,
   "metadata": {
    "collapsed": false
   },
   "outputs": [
    {
     "data": {
      "text/plain": [
       "887988L"
      ]
     },
     "execution_count": 15,
     "metadata": {},
     "output_type": "execute_result"
    }
   ],
   "source": [
    "#máximo\n",
    "#parsed_logs.map(lambda x: x[0].content_size).max() #hay x[0] y x[1]\n",
    "access_logs.map(lambda x: x.content_size).max() #sol hay una componente"
   ]
  },
  {
   "cell_type": "code",
   "execution_count": 16,
   "metadata": {
    "collapsed": false
   },
   "outputs": [
    {
     "data": {
      "text/plain": [
       "0L"
      ]
     },
     "execution_count": 16,
     "metadata": {},
     "output_type": "execute_result"
    }
   ],
   "source": [
    "#minimo\n",
    "access_logs.map(lambda x: x.content_size).min()"
   ]
  },
  {
   "cell_type": "code",
   "execution_count": 17,
   "metadata": {
    "collapsed": false
   },
   "outputs": [
    {
     "data": {
      "text/plain": [
       "16051.863636363621"
      ]
     },
     "execution_count": 17,
     "metadata": {},
     "output_type": "execute_result"
    }
   ],
   "source": [
    "#media\n",
    "access_logs.map(lambda x: x.content_size).mean()"
   ]
  },
  {
   "cell_type": "markdown",
   "metadata": {},
   "source": [
    "Otra forma"
   ]
  },
  {
   "cell_type": "code",
   "execution_count": 18,
   "metadata": {
    "collapsed": false
   },
   "outputs": [],
   "source": [
    "content_sizes= access_logs.map(lambda log: log.content_size).cache()"
   ]
  },
  {
   "cell_type": "code",
   "execution_count": 19,
   "metadata": {
    "collapsed": false
   },
   "outputs": [
    {
     "name": "stdout",
     "output_type": "stream",
     "text": [
      "numero obs: 16051, Min: 0, Max: 887988, Mean: 16051.8636364)\n"
     ]
    }
   ],
   "source": [
    "print (\"numero obs: %i, Min: %i, Max: %s, Mean: %s)\"%(\n",
    "       content_sizes.reduce(lambda a, b: a + b)/ content_sizes.count(),\n",
    "       content_sizes.min(),\n",
    "       content_sizes.max(),\n",
    "       content_sizes.mean()))\n",
    "#print (content_sizes.mean())"
   ]
  },
  {
   "cell_type": "markdown",
   "metadata": {},
   "source": [
    "## 2. Numero de peticiones de cada codigo de respuesta:"
   ]
  },
  {
   "cell_type": "code",
   "execution_count": 20,
   "metadata": {
    "collapsed": false
   },
   "outputs": [
    {
     "name": "stdout",
     "output_type": "stream",
     "text": [
      "[200, 304, 304, 304, 304, 200, 304, 200, 200, 200]\n"
     ]
    },
    {
     "data": {
      "text/plain": [
       "[(200, 3140), (304, 219), (403, 1), (404, 22), (302, 50)]"
      ]
     },
     "execution_count": 20,
     "metadata": {},
     "output_type": "execute_result"
    }
   ],
   "source": [
    "#response code en una de las componentes de la lista access_logs\n",
    "responseCode=access_logs.map(lambda x: x.response_code)\n",
    "print(responseCode.take(10))\n",
    "responseCodeToCount=access_logs.map(lambda x: [x.response_code,1]).reduceByKey(lambda a,b: a+b)\n",
    "responseCodeToCount.collect()\n",
    "#\n"
   ]
  },
  {
   "cell_type": "markdown",
   "metadata": {},
   "source": [
    "# 3. Mostrar 20 host que han sido visitados más de 10 veces"
   ]
  },
  {
   "cell_type": "code",
   "execution_count": 21,
   "metadata": {
    "collapsed": false
   },
   "outputs": [
    {
     "data": {
      "text/plain": [
       "[Row(client_identd=u'-', content_size=1839L, date_time=datetime.datetime(1995, 8, 1, 0, 0, 1), endpoint=u'/shuttle/missions/sts-68/news/sts-68-mcc-05.txt', host=u'in24.inetnebr.com', method=u'GET', protocol=u'HTTP/1.0', response_code=200, user_id=u'-')]"
      ]
     },
     "execution_count": 21,
     "metadata": {},
     "output_type": "execute_result"
    }
   ],
   "source": [
    "access_logs.take(1)\n",
    "#host es un componente de la lista"
   ]
  },
  {
   "cell_type": "code",
   "execution_count": 22,
   "metadata": {
    "collapsed": false
   },
   "outputs": [
    {
     "name": "stdout",
     "output_type": "stream",
     "text": [
      "[u'in24.inetnebr.com', u'uplherc.upl.com', u'uplherc.upl.com', u'uplherc.upl.com', u'uplherc.upl.com']\n"
     ]
    }
   ],
   "source": [
    "hostCode=access_logs.map(lambda x: x.host)\n",
    "print(hostCode.take(5))"
   ]
  },
  {
   "cell_type": "code",
   "execution_count": 23,
   "metadata": {
    "collapsed": false
   },
   "outputs": [
    {
     "data": {
      "text/plain": [
       "[(u'www-d1.proxy.aol.com', 39),\n",
       " (u'www-c1.proxy.aol.com', 30),\n",
       " (u'cmr2w1.cc.nda.ac.jp', 11),\n",
       " (u'lutzp.tigernet.net', 12),\n",
       " (u'ix-dfw12-08.ix.netcom.com', 17),\n",
       " (u'ncg-69.axionet.com', 12),\n",
       " (u'128.135.36.35', 12),\n",
       " (u'dialip129.gov.bc.ca', 21),\n",
       " (u'pm9.j51.com', 28),\n",
       " (u'mallard2.duc.auburn.edu', 16),\n",
       " (u'dd15-053.compuserve.com', 11),\n",
       " (u'dd10-046.compuserve.com', 13),\n",
       " (u'pm6a3.sover.net', 11),\n",
       " (u'www-b2.proxy.aol.com', 40),\n",
       " (u'itws.info.eng.niigata-u.ac.jp', 14),\n",
       " (u'ix-aus4-15.ix.netcom.com', 13),\n",
       " (u'pppa006.compuserve.com', 17),\n",
       " (u'ts6-11.westwood.ts.ucla.edu', 15),\n",
       " (u'kenko2.hyogo-ths.hyogo.kobe.jp', 20),\n",
       " (u'www-d3.proxy.aol.com', 27)]"
      ]
     },
     "execution_count": 23,
     "metadata": {},
     "output_type": "execute_result"
    }
   ],
   "source": [
    "hostToCount=access_logs.map(lambda x: [x.host,1]).reduceByKey(lambda a,b: a+b).filter(lambda x: x[1]>10)\n",
    "hostToCount.take(20)"
   ]
  },
  {
   "cell_type": "markdown",
   "metadata": {
    "collapsed": true
   },
   "source": [
    "# 4. Mostrar los 10 endpoints más visitados"
   ]
  },
  {
   "cell_type": "code",
   "execution_count": 24,
   "metadata": {
    "collapsed": false
   },
   "outputs": [
    {
     "data": {
      "text/plain": [
       "[Row(client_identd=u'-', content_size=1839L, date_time=datetime.datetime(1995, 8, 1, 0, 0, 1), endpoint=u'/shuttle/missions/sts-68/news/sts-68-mcc-05.txt', host=u'in24.inetnebr.com', method=u'GET', protocol=u'HTTP/1.0', response_code=200, user_id=u'-')]"
      ]
     },
     "execution_count": 24,
     "metadata": {},
     "output_type": "execute_result"
    }
   ],
   "source": [
    "#miro la primera fila para saber como vienen expresados los endpoints\n",
    "access_logs.take(1)"
   ]
  },
  {
   "cell_type": "code",
   "execution_count": 25,
   "metadata": {
    "collapsed": false
   },
   "outputs": [
    {
     "data": {
      "text/plain": [
       "[(u'/shuttle/missions/sts-67/images/images.html', 3),\n",
       " (u'/history/apollo/apollo-10/apollo-10-info.html', 1),\n",
       " (u'/shuttle/missions/sts-70/images/DSC-95EC-0001.gif', 3),\n",
       " (u'/shuttle/technology/sts-newsref/sts-gnnc.html', 1),\n",
       " (u'/shuttle/missions/sts-67/mission-sts-67.html', 5),\n",
       " (u'/elv/DELTA/euves.jpg', 2),\n",
       " (u'/shuttle/missions/sts-63/sts-63-info.html', 1),\n",
       " (u'/shuttle/technology/sts-newsref/sts-lc39.html', 1),\n",
       " (u'/persons/nasa-cm/hec-sm.gif', 1),\n",
       " (u'/elv/TITAN/mars1s.jpg', 2),\n",
       " (u'/shuttle/missions/sts-71/images/images.html', 11),\n",
       " (u'/shuttle/missions/sts-71/movies/crew-arrival-t38.mpg', 3),\n",
       " (u'/software/winvn/faq/WINVNFAQ-II-1.html', 1),\n",
       " (u'/shuttle/missions/sts-70/movies/sts-70-roll-back-pad.mpg', 1),\n",
       " (u'/shuttle/technology/sts-newsref/stsover-chron.html', 1),\n",
       " (u'/history/apollo/apollo-16/apollo-16-info.html', 1),\n",
       " (u'/history/apollo/a-004/a-004-patch-small.gif', 2),\n",
       " (u'/history/apollo/apollo-13/apollo-13-info.html', 7),\n",
       " (u'/shuttle/missions/sts-71/images/KSC-95EC-0913.gif', 1),\n",
       " (u'/shuttle/missions/61-b/mission-61-b.html', 1),\n",
       " (u'/history/apollo/apollo-13/', 2),\n",
       " (u'/history/apollo/apollo-goals.txt', 2),\n",
       " (u'/shuttle/missions/sts-70/movies/woodpecker.mpg', 7),\n",
       " (u'/cgi-bin/imagemap/countdown70?344,177', 1),\n",
       " (u'/shuttle/missions/rollbacks.html', 1),\n",
       " (u'/shuttle/missions/sts-57/sts-57-patch.jpg', 1),\n",
       " (u'/icon/new01.gif', 1),\n",
       " (u'/shuttle/countdown/lps/fr.html', 11),\n",
       " (u'/shuttle/missions/sts-63/sts-63-patch-small.gif', 8),\n",
       " (u'/shuttle/missions/sts-71/images/KSC-95EC-0423.gif', 2),\n",
       " (u'/htbin/wais.pl?spacewalk', 1),\n",
       " (u'/shuttle/countdown/', 44),\n",
       " (u'/shuttle/countdown', 1),\n",
       " (u'/history/apollo/apollo-7/apollo-7-patch-small.gif', 1),\n",
       " (u'/history/apollo/a-001/movies/', 2),\n",
       " (u'/shuttle/missions/sts-74/mission-sts-74.html', 2),\n",
       " (u'/history/apollo/apollo-12/videos/moonflag.mpg', 5),\n",
       " (u'/history/apollo/apollo-11/images/', 2),\n",
       " (u'/images/rollback.gif', 1),\n",
       " (u'/history/apollo/apollo-11/images/69HC680.GIF', 1),\n",
       " (u'/htbin/wais.pl?STS-59', 1),\n",
       " (u'/images/mlp-logo.gif', 8),\n",
       " (u'/history/apollo/apollo-8/images/69HC21.GIF', 1),\n",
       " (u'/images/lcc-small2.gif', 2),\n",
       " (u'/shuttle/missions/sts-68/news/sts-68-mcc-15.txt', 1),\n",
       " (u'/elv/whnew.htm', 1),\n",
       " (u'/history/apollo/apollo-spacecraft.txt', 5),\n",
       " (u'/procurement/procurement.html', 3),\n",
       " (u'/cgi-bin/imagemap/countdown70?51,156', 1),\n",
       " (u'/shuttle/missions/sts-71/images/KSC-95EC-0423.txt', 1),\n",
       " (u'/shuttle/missions/sts-65/mission-sts-65.html', 3),\n",
       " (u'/shuttle/missions/sts-70/images/KSC-95EC-1060.gif', 1),\n",
       " (u'/elv/uplink.htm', 2),\n",
       " (u'/shuttle/missions/sts-71/images/KSC-95EC-0908.jpg', 1),\n",
       " (u'/history/apollo/sa-1/sa-1.html', 2),\n",
       " (u'/shuttle/technology/sts-newsref/sts-av.html', 2),\n",
       " (u'/history/mercury/mr-3/mr-3-patch-small.gif', 1),\n",
       " (u'/facts/facts.html', 6),\n",
       " (u'/shuttle/missions/sts-71/images/KSC-95EC-0912.gif', 1),\n",
       " (u'/htbin/wais.pl?NIZEMI', 1),\n",
       " (u'/shuttle/missions/sts-70/movies/sts-70-approach.mpg', 1),\n",
       " (u'/software/winvn/winvn.html', 26),\n",
       " (u'/shuttle/missions/61-c/61-c-patch-small.gif', 2),\n",
       " (u'/shuttle/resources/orbiters/endeavour.gif', 3),\n",
       " (u'/shuttle/countdown/lps/images/AA-ROW-large.gif', 1),\n",
       " (u'/shuttle/missions/sts-59/mission-sts-59.html', 3),\n",
       " (u'/shuttle/missions/sts-70/images/KSC-95EC-1013.gif', 1),\n",
       " (u'/shuttle/countdown/images/countclock.gif', 12),\n",
       " (u'/history/skylab/skylab-4.html', 2),\n",
       " (u'/software/winvn/userguide/3_1_1_11.htm', 1),\n",
       " (u'/images/imagemaps/stats.map', 1),\n",
       " (u'/facts/faq10.html', 1),\n",
       " (u'/shuttle/missions/sts-71/images/KSC-95EC-0589.gif', 1),\n",
       " (u'/shuttle/missions/sts-59/images/', 1),\n",
       " (u'/cgi-bin/imagemap/fr?264,412', 1),\n",
       " (u'/shuttle/missions/sts-68/images/ksc-upclose.gif', 4),\n",
       " (u'/facilities/vab.html', 5),\n",
       " (u'/history/apollo/apollo-12/images/', 2),\n",
       " (u'/biomed/wwwicons/blue.gif', 1),\n",
       " (u'/software/winvn/winvn.gif', 28),\n",
       " (u'/cgi-bin/imagemap/countdown70?342,281', 1),\n",
       " (u'/shuttle/missions/sts-71/images/index71.gif', 4),\n",
       " (u'/history/apollo/images/apollo-insignia.gif', 3),\n",
       " (u'/history/apollo/apollo-8/images/68HC678.GIF', 1),\n",
       " (u'/cgi-bin/imagemap/countdown70?181,275', 1),\n",
       " (u'/history/apollo/apollo-16/apollo-16.html', 2),\n",
       " (u'/images/USA-logosmall.gif', 118),\n",
       " (u'/shuttle/missions/sts-68/sts-68-patch-small.gif', 13),\n",
       " (u'/ksc.html/facts/about_ksc.html', 1),\n",
       " (u'/cgi-bin/imagemap/countdown70?349,285', 1),\n",
       " (u'/cgi-bin/imagemap/countdown70?72,218', 1),\n",
       " (u'/cgi-bin/imagemap/countdown70?113,292', 1),\n",
       " (u'/shuttle/technology/sts-newsref/stsover-missions.html', 1),\n",
       " (u'/history/apollo/images/apollo-small.gif', 23),\n",
       " (u'/shuttle/missions/sts-68/images/', 2),\n",
       " (u'/shuttle/resources/orbiters/endeavour-logo.gif', 9),\n",
       " (u'/shuttle/resources/orbiters/challenger-logo.gif', 6),\n",
       " (u'/shuttle/technology/images/sts_body_2-small.gif', 1),\n",
       " (u'/history/skylab/skylab-1.html', 1),\n",
       " (u'/shuttle/countdown/lps/bkup-intg/bkup-intg.html', 1),\n",
       " (u'/history/apollo/apollo-8/apollo-8.html', 1),\n",
       " (u'/icons/movie.xbm', 4),\n",
       " (u'/images/shuttle-patch.jpg', 1),\n",
       " (u'/cgi-bin/imagemap/countdown70?67,155', 1),\n",
       " (u'/shuttle/missions/sts-72/mission-sts-72.html', 6),\n",
       " (u'/elv/SCOUT/radcals.jpg', 2),\n",
       " (u'/shuttle/missions/sts-76/sts-76-info.html', 1),\n",
       " (u'/images/faq.gif', 3),\n",
       " (u'/history/apollo/apollo-13/images/70HC418.GIF', 1),\n",
       " (u'/images/lc39a-logo.gif', 16),\n",
       " (u'/images/launchpalms-small.gif', 9),\n",
       " (u'/cgi-bin/imagemap/countdown70?63,219', 1),\n",
       " (u'/htbin/wais.pl?image', 1),\n",
       " (u'/shuttle/missions/61-c/mission-61-c.html', 2),\n",
       " (u'/shuttle/missions/sts-30/mission-sts-30.html', 1),\n",
       " (u'/history/apollo/apollo-11/movies/', 1),\n",
       " (u'/software/winvn/userguide/winvnsm.gif', 3),\n",
       " (u'/shuttle/missions/sts-70/sts-70-day-01-highlights.html', 1),\n",
       " (u'/images/rollout.gif', 3),\n",
       " (u'/history/apollo/apollo-8/images/', 1),\n",
       " (u'/history/apollo/apollo-17/apollo-17-patch.jpg', 1),\n",
       " (u'/history/apollo/sa-7/sa-7.html', 1),\n",
       " (u'/shuttle/missions/sts-57/mission-sts-57.html', 4),\n",
       " (u'/history/apollo/apollo-16/', 3),\n",
       " (u'/shuttle/missions/sts-68/news/sts-68-mcc-11.txt', 1),\n",
       " (u'/history/apollo/sa-10/sa-10.html', 1),\n",
       " (u'/history/mercury/mercury-spacecraft.txt', 2),\n",
       " (u'/shuttle/missions/sts-71/images/KSC-95EC-0912.jpg', 2),\n",
       " (u'/images/hq.gif', 1),\n",
       " (u'/shuttle/missions/sts-59/news/sc940121.sta', 1),\n",
       " (u'/cgi-bin/imagemap/countdown70?54,211', 1),\n",
       " (u'/cgi-bin/imagemap/countdown70?61,223', 1),\n",
       " (u'/images/crawler-logo.gif', 4),\n",
       " (u'/software/winvn/userguide/winvn30.gif', 1),\n",
       " (u'/shuttle/technology/sts-newsref/stsover-launch.html', 1),\n",
       " (u'/shuttle/missions/sts-68/news/sts-68-mcc-13.txt', 1),\n",
       " (u'/shuttle/missions/51-d/51-d-patch-small.gif', 1),\n",
       " (u'/history/apollo/as-201/as-201-patch-small.gif', 1),\n",
       " (u'/history/mercury/mercury.html', 7),\n",
       " (u'/shuttle/missions/sts-70/news/', 1),\n",
       " (u'/shuttle/missions/sts-57/sts-57-patch-small.gif', 3),\n",
       " (u'/images/launch.gif', 8),\n",
       " (u'/shuttle/countdown/count.html', 1),\n",
       " (u'/facts/about_ksc.html', 9),\n",
       " (u'/cgi-bin/imagemap/countdown70?183,288', 1),\n",
       " (u'/shuttle/countdown/lps/aa/aa.html', 1),\n",
       " (u'/icons/menu.xbm', 32),\n",
       " (u'/history/apollo/apollo-13/images/70HC517.GIF', 1),\n",
       " (u'/shuttle/technology/images/et_1-small.gif', 1),\n",
       " (u'/shuttle/missions/sts-71/movies/sts-71-landing.mpg', 1),\n",
       " (u'/pub/winvn/readme.txt', 2),\n",
       " (u'/shuttle/countdown/images/countclock.jpeg', 1),\n",
       " (u'/shuttle/', 2),\n",
       " (u'/software/winvn/', 1),\n",
       " (u'/shuttle/technology/sts-newsref/sts_coord.html', 1),\n",
       " (u'/cgi-bin/imagemap/countdown70?62,224', 1),\n",
       " (u'/shuttle/missions/sts-36/mission-sts-36.html', 1),\n",
       " (u'/images/op.gif', 1),\n",
       " (u'/history/apollo/apollo-13/images/70HC314.GIF', 1),\n",
       " (u'/software/winvn/userguide/docscont.gif', 3),\n",
       " (u'/shuttle/countdown/./video/livevideo2.gif', 2),\n",
       " (u'/shuttle/missions/sts-70/images/KSC-95EC-0649.gif', 1),\n",
       " (u'/htbin/wais.pl?IMAX', 1),\n",
       " (u'/history/apollo/apollo-11/apollo-11.html', 10),\n",
       " (u'/images/op-logo-small.gif', 3),\n",
       " (u'/history/apollo/apollo-13/images/index.gif', 2),\n",
       " (u'/history/early-astronauts.txt', 1),\n",
       " (u'/shuttle/resources/orbiters/atlantis.html', 5),\n",
       " (u'/cgi-bin/imagemap/countdown70?58,187', 1),\n",
       " (u'/icons/text.xbm', 11),\n",
       " (u'/history/apollo/apollo-4/apollo-4-patch-small.gif', 2),\n",
       " (u'/history/apollo/apollo-16/apollo-16-patch-small.gif', 2),\n",
       " (u'/history/mercury/mr-3/mr-3.html', 1),\n",
       " (u'/shuttle/missions/sts-70/movies/sts-70-crew-suitup.mpg', 1),\n",
       " (u'/cgi-bin/imagemap/countdown70?59,186', 1),\n",
       " (u'/shuttle/missions/sts-63/sts-63-patch.jpg', 1),\n",
       " (u'/mdss/s_delta2.gif', 2),\n",
       " (u'/shuttle/missions/sts-70/images/KSC-95EC-1057.gif', 1),\n",
       " (u'/shuttle/missions/sts-68/news/sts-68-mcc-09.txt', 1),\n",
       " (u'/history/history.htm', 1),\n",
       " (u'/persons/nasa-cm/mike-sm.gif', 1),\n",
       " (u'/cgi-bin/imagemap/countdown70?284,288', 1),\n",
       " (u'/shuttle/technology/images/srb_mod_compare_6-small.gif', 5),\n",
       " (u'/shuttle/technology/images/aft_fuselage_2-small.gif', 1),\n",
       " (u'/elv/ATLAS_CENTAUR/goess.jpg', 2),\n",
       " (u'/history/apollo/sa-6/sa-6.html', 1),\n",
       " (u'/elv/hot.gif', 3),\n",
       " (u'/persons/astronauts/a-to-d/CrippenRL.txt', 1),\n",
       " (u'/shuttle/missions/sts-40/mission-sts-40.html', 1),\n",
       " (u'/shuttle/missions/sts-70/woodpecker.html', 1),\n",
       " (u'/icons/image.xbm', 29),\n",
       " (u'/shuttle/technology/images/launch_sites_8-small.gif', 4),\n",
       " (u'/history/apollo/apollo-16/movies/', 2),\n",
       " (u'/msfc/astro_home.html', 1),\n",
       " (u'/history/apollo/apollo-8/apollo-8-patch-small.gif', 1),\n",
       " (u'/shuttle/missions/sts-71/movies/movies.html', 16),\n",
       " (u'/history/apollo/apollo-11/apollo-11-patch.jpg', 1),\n",
       " (u'/images/vab-small.gif', 5),\n",
       " (u'/shuttle/missions/sts-70/images/KSC-95EC-0711.gif', 1),\n",
       " (u'/history/apollo/a-004/a-004-info.html', 1),\n",
       " (u'/cgi-bin/imagemap/countdown70?199,165', 1),\n",
       " (u'/shuttle/missions/sts-70/images/KSC-95EC-0852.gif', 1),\n",
       " (u'/elv/DELTA/delta.gif', 3),\n",
       " (u'/history/apollo/apollo-12/', 9),\n",
       " (u'/shuttle/missions/sts-49/sts-49-patch-small.gif', 3),\n",
       " (u'/shuttle/missions/sts-71/news/sts-71-mcc-01.txt', 1),\n",
       " (u'/history/apollo/apollo-10/apollo-10.html', 1),\n",
       " (u'/shuttle/technology/sts-newsref/sts_overview.html', 3),\n",
       " (u'/images/IMPACT.JPG', 1),\n",
       " (u'/history/apollo/apollo-sa.html', 3),\n",
       " (u'/images/dual-pad.gif', 1),\n",
       " (u'/shuttle/countdown/lps/images/AA-ROW.gif', 1),\n",
       " (u'/shuttle/technology/images/sts_spec_6-small.gif', 4),\n",
       " (u'/shuttle/missions/sts-64/sts-64-patch-small.gif', 1),\n",
       " (u'/images/landing-small.gif', 4),\n",
       " (u'/shuttle/missions/sts-70/images/KSC-95EC-0540.jpg', 1),\n",
       " (u'/shuttle/missions/51-j/mission-51-j.html', 1),\n",
       " (u'/shuttle/missions/sts-71/movies/sts-71-mir-dock-2.mpg', 1),\n",
       " (u'/shuttle/missions/sts-72/sts-72-patch-small.gif', 4),\n",
       " (u'/history/apollo/images/apollo.gif', 3),\n",
       " (u'/shuttle/missions/sts-70/images/KSC-95EC-1058.gif', 1),\n",
       " (u'/shuttle/missions/sts-70/sts-70-day-02-highlights.html', 1),\n",
       " (u'/shuttle/missions/sts-8/mission-sts-8.html', 1),\n",
       " (u'/history/apollo/a-001/a-001-patch-small.gif', 4),\n",
       " (u'/shuttle/missions/51-l/sounds/', 1),\n",
       " (u'/shuttle/missions/sts-67/images/KSC-95EC-0390.gif', 1),\n",
       " (u'/shuttle/countdown/video/livevideo2.gif', 16),\n",
       " (u'/shuttle/missions/sts-70/images/index70.gif', 1),\n",
       " (u'/history/apollo/apollo-11/apollo-11-info.html', 3),\n",
       " (u'/history/apollo/sa-5/sa-5.html', 1),\n",
       " (u'/shuttle/missions/sts-28/sts-28-patch-small.gif', 1),\n",
       " (u'/shuttle', 1),\n",
       " (u'/shuttle/resources/orbiters/enterprise-logo.gif', 1),\n",
       " (u'/history/apollo/apollo-13/apollo-13-patch.jpg', 1),\n",
       " (u'/images/cm-map.gif', 1),\n",
       " (u'/shuttle/missions/sts-71/images/KSC-95EC-0950.gif', 2),\n",
       " (u'/procurement/procurement.htm', 1),\n",
       " (u'/shuttle/missions/sts-54/sts-54-patch-small.gif', 1),\n",
       " (u'/cgi-bin/imagemap/fr?99,438', 1),\n",
       " (u'/shuttle/missions/sts-54/mission-sts-54.html', 1),\n",
       " (u'/elv/PEGASUS/minpeg1.gif', 3),\n",
       " (u'/history/apollo/apollo-12/apollo-12-info.html', 2),\n",
       " (u'/icons/blank.xbm', 32),\n",
       " (u'/shuttle/missions/sts-73/news', 1),\n",
       " (u'/shuttle/missions/sts-1/sts-1-patch-small.gif', 3),\n",
       " (u'/history/apollo/apollo-1/images/67HC33.gif', 1),\n",
       " (u'/history/apollo/apollo-12/apollo-12.html', 3),\n",
       " (u'/htbin/cdt_clock.pl', 7),\n",
       " (u'/elv/DELTA/delseps.jpg', 1),\n",
       " (u'/history/skylab/skylab.html', 6),\n",
       " (u'/procurement/midrange/rfo.htm', 1),\n",
       " (u'/shuttle/missions/sts-71/docs/', 1),\n",
       " (u'/software/winvn/userguide/1_3.htm', 1),\n",
       " (u'/cgi-bin/imagemap/countdown70?185,287', 1),\n",
       " (u'/facts/faq01.html', 3),\n",
       " (u'/facilities/mlp.html', 9),\n",
       " (u'/biomed/wwwicons/orange.gif', 1),\n",
       " (u'/history/apollo/a-001/a-001-info.html', 1),\n",
       " (u'/shuttle/missions/sts-71/images/KSC-95EC-0544.gif', 2),\n",
       " (u'/cgi-bin/imagemap/fr?318,447', 1),\n",
       " (u'/shuttle/missions/sts-44/sts-44-patch-small.gif', 1),\n",
       " (u'/persons/astronauts/u-to-z/YoungJW.txt', 1),\n",
       " (u'/software/winvn/faq/WINVNFAQ-I-1.html', 2),\n",
       " (u'/shuttle/missions/sts-71/', 1),\n",
       " (u'/cgi-bin/imagemap/countdown70?199,289', 1),\n",
       " (u'/shuttle/missions/sts-70/o-ring-problem.gif', 3),\n",
       " (u'/biomed/wwwicons/green.gif', 1),\n",
       " (u'/history/apollo/apollo-11/sounds/A01106AA.WAV', 1),\n",
       " (u'/shuttle/missions/sts-65/sts-65-patch-small.gif', 3),\n",
       " (u'/elv/ATLAS_CENTAUR/acsuns.jpg', 2),\n",
       " (u'/shuttle/missions/sts-70/images/KSC-95EC-1059.gif', 2),\n",
       " (u'/shuttle/resources/orbiters/endeavour.html', 9),\n",
       " (u'/biomed/program.html', 1),\n",
       " (u'/shuttle/missions/sts-37/sts-37-patch-small.gif', 1),\n",
       " (u'/shuttle/missions/sts-72/sts-72-info.html', 1),\n",
       " (u'/software/winvn/wvlarge.gif', 2),\n",
       " (u'/history/apollo/apollo-17/apollo-17-patch-small.gif', 3),\n",
       " (u'/biomed/wwwicons/yellow.gif', 1),\n",
       " (u'/shuttle/missions/51-l/movies/', 2),\n",
       " (u'/shuttle/missions/sts-1/mission-sts-1.html', 3),\n",
       " (u'/elv/ATLAS_CENTAUR/atlas.gif', 3),\n",
       " (u'/elv/DELTA/dedesc.htm', 2),\n",
       " (u'/elv/DELTA/rosats.jpg', 2),\n",
       " (u'/images/cdrom-1-95/', 1),\n",
       " (u'/shuttle/missions/sts-68/sts-68-info.html', 1),\n",
       " (u'/history/apollo/apollo-12/images/69HC1341.GIF', 1),\n",
       " (u'/history/apollo/apollo-17/apollo-17-info.html', 1),\n",
       " (u'/images/shuttle-patch-small.gif', 11),\n",
       " (u'/shuttle/resources/orbiters/challenger.html', 5),\n",
       " (u'/shuttle/missions/sts-49/mission-sts-49.html', 4),\n",
       " (u'/images/NASAseal-small.gif', 1),\n",
       " (u'/shuttle/countdown/video/livevideo.jpeg', 4),\n",
       " (u'/history/apollo/sa-2/sa-2.html', 1),\n",
       " (u'/shuttle/missions/sts-30/sts-30-patch-small.gif', 1),\n",
       " (u'/biomed/wwwicons/red.gif', 1),\n",
       " (u'/cgi-bin/imagemap/countdown70?186,284', 1),\n",
       " (u'/images/launch-small.gif', 2),\n",
       " (u'/elv/elvpage.htm', 4),\n",
       " (u'/shuttle/countdown/count70.gif', 49),\n",
       " (u'/history/apollo/flight-summary.txt', 5),\n",
       " (u'/ksc.html/', 2),\n",
       " (u'/history/apollo/apollo-8/images/69HC2.GIF', 1),\n",
       " (u'/elv/DELTA/delta.htm', 2),\n",
       " (u'/cgi-bin/imagemap/countdown70?181,287', 1),\n",
       " (u'/cgi-bin/imagemap/countdown70?66,219', 1),\n",
       " (u'/shuttle/missions/sts-68/images/ksc.gif', 4),\n",
       " (u'/shuttle/missions/sts-71/images/KSC-95EC-0911.jpg', 2),\n",
       " (u'/history/apollo/apollo-4/apollo-4.html', 2),\n",
       " (u'/software/winvn/userguide/docsleft.gif', 3),\n",
       " (u'/shuttle/missions/sts-59/sts-59-press-kit.txt', 1),\n",
       " (u'/shuttle/resources/orbiters/orbiters-logo.gif', 22),\n",
       " (u'/history/apollo/apollo-1/images/', 2),\n",
       " (u'/history/apollo/apollo-1/sounds/', 1),\n",
       " (u'/history/apollo/sa-8/sa-8-patch-small.gif', 1),\n",
       " (u'/shuttle/missions/61-b/61-b-patch-small.gif', 1),\n",
       " (u'/elv/vidpicp.htm', 2),\n",
       " (u'/persons/nasa-cm/jmd.gif', 2),\n",
       " (u'/shuttle/missions/sts-70/movies/sts-70-launch.mpg', 3),\n",
       " (u'/htbin/wais.pl?MAPS', 1),\n",
       " (u'/shuttle/missions/sts-28/mission-sts-28.html', 1),\n",
       " (u'/cgi-bin/imagemap/countdown70?288,283', 1),\n",
       " (u'/elv/SCOUT/s_216s.jpg', 1),\n",
       " (u'/shuttle/missions/sts-63/images/K95P0248.jpg', 1),\n",
       " (u'/shuttle/technology/sts-newsref/sts-eps.html', 2),\n",
       " (u'/elv/DELTA/dsolidss.jpg', 2),\n",
       " (u'/htbin/cdt_main.pl', 17),\n",
       " (u'/history/mercury/ma-7/ma-7.html', 1),\n",
       " (u'/mdss/MDSS.html', 3),\n",
       " (u'/shuttle/missions/sts-41/mission-sts-41.html', 1),\n",
       " (u'/cgi-bin/imagemap/countdown70?56,190', 1),\n",
       " (u'/facilities/lcc.html', 3),\n",
       " (u'/shuttle/technology/sts-newsref/sts-jsc.html', 1),\n",
       " (u'/software/winvn/faq/WINVNFAQ-I-6.html', 1),\n",
       " (u'/images/construct.gif', 28),\n",
       " (u'/history/skylab/skylab-operations.txt', 1),\n",
       " (u'/shuttle/missions/sts-67/sts-67-patch-small.gif', 5),\n",
       " (u'/cgi-bin/imagemap/countdown70?75,221', 1),\n",
       " (u'/history/apollo/apollo-13/movies/apo13launch.mpg', 1),\n",
       " (u'/shuttle/missions/sts-56/sts-56-patch-small.gif', 3),\n",
       " (u'/shuttle/missions/sts-72/sounds/', 2),\n",
       " (u'/facilities/opf.html', 3),\n",
       " (u'/shuttle/missions/sts-64/mission-sts-64.html', 3),\n",
       " (u'/shuttle/missions/sts-70/sts-70-info.html', 1),\n",
       " (u'/shuttle/missions/sts-67/images/KSC-95EC-0381.gif', 1),\n",
       " (u'/shuttle/missions/missions.html', 54),\n",
       " (u'/shuttle/missions/sts-56/mission-sts-56.html', 3),\n",
       " (u'/cgi-bin/imagemap/countdown70?398,282', 1),\n",
       " (u'/shuttle/missions/sts-70/images/KSC-95EC-1015.gif', 1),\n",
       " (u'/images/getstats.gif', 1),\n",
       " (u'/shuttle/missions/sts-70/sts-70-day-07-highlights.html', 1),\n",
       " (u'/shuttle/missions/51-l/51-l-patch-small.gif', 6),\n",
       " (u'/cgi-bin/imagemap/countdown70?176,20', 1),\n",
       " (u'/shuttle/missions/sts-70/images/holes-in-et.gif', 1),\n",
       " (u'/images/WORLD-logosmall.gif', 120),\n",
       " (u'/history/apollo/images/APOLLO-logosmall.gif', 1),\n",
       " (u'/elv/struct.gif', 2),\n",
       " (u'/shuttle/missions/sts-71/images/KSC-95EC-0443.gif', 1),\n",
       " (u'/shuttle/missions/sts-41/sts-41-patch-small.gif', 1),\n",
       " (u'/shuttle/missions/sts-70/images/KSC-95EC-1016.gif', 2),\n",
       " (u'/htbin/wais.pl?MIR-Rendezvous', 2),\n",
       " (u'/shuttle/missions/51-l/mission-51-l.html', 7),\n",
       " (u'/mdss/station.gif', 2),\n",
       " (u'/images/KSC-logosmall.gif', 167),\n",
       " (u'/history/skylab/skylab-station.txt', 1),\n",
       " (u'/htbin/wais.pl?TISP', 1),\n",
       " (u'/software/winvn/faq/WINVNFAQ-III-4.html', 1),\n",
       " (u'/shuttle/missions/sts-76/mission-sts-76.html', 3),\n",
       " (u'/shuttle/missions/status/r93-31', 1),\n",
       " (u'/shuttle/missions/sts-61/sts-61-patch-small.gif', 1),\n",
       " (u'/news/sci.space.news/2334', 1),\n",
       " (u'/persons/nasa-cm/jmd-sm.gif', 1),\n",
       " (u'/procurement/midrange/notices/equip/doc3c7f.htm', 1),\n",
       " (u'/shuttle/missions/sts-68/mission-sts-68.html', 10),\n",
       " (u'/shuttle/technology/images/crew_compartment_13-small.gif', 1),\n",
       " (u'/shuttle/missions/51-l/images/', 1),\n",
       " (u'/history/rocket-history.txt', 3),\n",
       " (u'/history/apollo/apollo-13/images/', 3),\n",
       " (u'/software/winvn/userguide/1_4.htm', 1),\n",
       " (u'/www/software/winvn/winvn.html', 1),\n",
       " (u'/history/apollo/apollo-1/apollo-1.html', 3),\n",
       " (u'/persons/nasa-cm/jmd.html', 2),\n",
       " (u'/shuttle/countdown/liftoff.html', 29),\n",
       " (u'/icons/unknown.xbm', 14),\n",
       " (u'/shuttle/missions/sts-71/movies/sts-71-launch-3.mpg', 8),\n",
       " (u'/shuttle/missions/sts-59/news/', 2),\n",
       " (u'/shuttle/missions/sts-71/sts-71-press-kit.txt', 1),\n",
       " (u'/shuttle/missions/sts-71/mission-sts-71.html', 12),\n",
       " (u'/elv/TITAN/mars3s.jpg', 2),\n",
       " (u'/history/apollo/apollo-13/news/', 2),\n",
       " (u'/shuttle/resources/orbiters/discovery-logo.gif', 10),\n",
       " (u'/images/imagemaps/', 1),\n",
       " (u'/news/sci.space.news/1608', 1),\n",
       " (u'/history/skylab/skylab-small.gif', 6),\n",
       " (u'/sts-71/launch/', 1),\n",
       " (u'/shuttle/missions/sts-78/mission-sts-78.html', 2),\n",
       " (u'/images/', 30),\n",
       " (u'/history/apollo/a-004/a-004.html', 2),\n",
       " (u'/pub/winvn/release.txt', 4),\n",
       " (u'/cgi-bin/imagemap/countdown70?61,190', 1),\n",
       " (u'/elv/DELTA/dsolids.jpg', 1),\n",
       " (u'/shuttle/missions/sts-70/news', 1),\n",
       " (u'/software/winvn/faq/WINVNFAQ-I-7.html', 1),\n",
       " (u'/software/winvn/faq/WINVNFAQ-Contents.html', 5),\n",
       " (u'/elv/TITAN/mars2s.jpg', 2),\n",
       " (u'/shuttle/missions/sts-71/sts-71-patch-small.gif', 18),\n",
       " (u'/htbin/wais.pl?MIR-Image', 1),\n",
       " (u'/history/apollo/apollo-16/videos/', 1),\n",
       " (u'/facts/faq11.html', 1),\n",
       " (u'/history/apollo/a-001/a-001.html', 2),\n",
       " (u'/shuttle/missions/sts-70/images/KSC-95EC-1059.jpg', 1),\n",
       " (u'/shuttle/missions/sts-68/news/sts-68-mcc-06.txt', 1),\n",
       " (u'/images/kscmap-tiny.gif', 22),\n",
       " (u'/shuttle/technology/images/tal_abort_2-small.gif', 1),\n",
       " (u'/history/apollo/pad-abort-test-2/pad-abort-test-2.html', 1),\n",
       " (u'/shuttle/missions/sts-61/mission-sts-61.html', 1),\n",
       " (u'/shuttle/missions/51-l/51-l-info.html', 2),\n",
       " (u'/shuttle/missions/sts-68/news/sts-68-mcc-08.txt', 1),\n",
       " (u'/history/skylab/skylab-2.html', 2),\n",
       " (u'/history/gemini/gemini.html', 5),\n",
       " (u'/software/winvn/userguide/wvnguide.html', 2),\n",
       " (u'/shuttle/missions/51-d/mission-51-d.html', 1),\n",
       " (u'/statistics/1995/Jul/Jul95.html', 1),\n",
       " (u'/shuttle/missions/sts-62/sounds/', 1),\n",
       " (u'/history/apollo/apollo-13/images/70HC431.GIF', 1),\n",
       " (u'/shuttle/missions/sts-71/movies/sts-71-rollover.mpg', 1),\n",
       " (u'/history/apollo/a-001/images/', 1),\n",
       " (u'/biomed/wwwicons/mm.gif', 1),\n",
       " (u'/shuttle/countdown/lps/images/BKUP-INT.gif', 1),\n",
       " (u'/shuttle/technology/sts-newsref/sts_asm.html', 10),\n",
       " (u'/images/rss.gif', 4),\n",
       " (u'/images/whatsnew.gif', 10),\n",
       " (u'/cgi-bin/imagemap/countdown70?289,288', 1),\n",
       " (u'/shuttle/missions/sts-73/mission-sts-73.html', 4),\n",
       " (u'/shuttle/resources/orbiters/columbia.html', 4),\n",
       " (u'/facts/faq12.html', 1),\n",
       " (u'/shuttle/missions/sts-9/mission-sts-9.html', 1),\n",
       " (u'/shuttle/missions/sts-59/sts-59-patch-small.gif', 5),\n",
       " (u'/shuttle/technology/images/mission_profile_2-small.gif', 3),\n",
       " (u'/images/cdrom-1-95/img0001.jpg', 2),\n",
       " (u'/shuttle/missions/sts-73/news/', 1),\n",
       " (u'/history/apollo/apollo-13/movies/', 3),\n",
       " (u'/facts/faq07.html', 1),\n",
       " (u'/history/history.html', 28),\n",
       " (u'/cgi-bin/imagemap/countdown70?71,222', 1),\n",
       " (u'/software/winvn/userguide/docsrigh.gif', 3),\n",
       " (u'/cgi-bin/imagemap/countdown70?295,293', 1),\n",
       " (u'/persons/nasa-cm/tnn-sm.gif', 1),\n",
       " (u'/software/winvn/faq/WINVNFAQ-V-1.html', 1),\n",
       " (u'/shuttle/missions/sts-68/news/sts-68-mcc-17.txt', 1),\n",
       " (u'/images/cdrom-1-95/img0028.jpg', 1),\n",
       " (u'/history/apollo/apollo-11/sounds/', 1),\n",
       " (u'/software/winvn/release.txt', 1),\n",
       " (u'/history/apollo/apollo-1/images/apollo-1-crew.gif', 1),\n",
       " (u'/history/apollo/apollo-1/images/66HC1519.gif', 2),\n",
       " (u'/history/apollo/images/footprint.gif', 2),\n",
       " (u'/shuttle/missions/sts-72/', 1),\n",
       " (u'/history/apollo/apollo-15/apollo-15.html', 1),\n",
       " (u'/shuttle/missions/sts-70/images/KSC-95EC-1012.gif', 1),\n",
       " (u'/shuttle/missions/sts-70/images/KSC-95EC-0768.gif', 1),\n",
       " (u'/history/apollo/images/apollo-logo1.gif', 74),\n",
       " (u'/software/winvn/faq/WINVNFAQ-I-4.html', 1),\n",
       " (u'/biomed/wwwicons/purple.gif', 1),\n",
       " (u'/elv/DELTA/uncons.htm', 1),\n",
       " (u'/shuttle/missions/100th.html', 1),\n",
       " (u'/history/apollo/apollo-17/movies/', 1),\n",
       " (u'/software', 1),\n",
       " (u'/images/slf-logo.gif', 1),\n",
       " (u'/elv/ATLAS_CENTAUR/atc69s.jpg', 2),\n",
       " (u'/shuttle/missions/sts-70/images/KSC-95EC-1012.jpg', 1),\n",
       " (u'/history/apollo/apollo-12/apollo-12-patch-small.gif', 1),\n",
       " (u'/shuttle/technology/sts-newsref/srb.html', 3),\n",
       " (u'/shuttle/missions/sts-71/movies/sts-71-tcdt-crew-walkout.mpg', 2),\n",
       " (u'/history/apollo/apollo-12/videos/', 5),\n",
       " (u'/images/ksclogosmall.gif', 66),\n",
       " (u'/shuttle/missions/sts-70/movies/sts-70-launch-srbsep.mpg', 1),\n",
       " (u'/history/apollo/sa-8/sa-8.html', 1),\n",
       " (u'/images/gemini-logo.gif', 3),\n",
       " (u'/history/apollo/apollo.html', 26),\n",
       " (u'/shuttle/resources/orbiters/orbiters.html', 2),\n",
       " (u'/shuttle/missions/sts-76/sts-76-patch-small.gif', 2),\n",
       " (u'/shuttle/missions/sts-70/sts-70-day-10-highlights.html', 1),\n",
       " (u'/whats-new.html', 8),\n",
       " (u'/cgi-bin/imagemap/countdown70?66,225', 1),\n",
       " (u'/history/apollo/apollo-13/docs/', 1),\n",
       " (u'/shuttle/missions/sts-36/sts-36-patch-small.gif', 1),\n",
       " (u'/news/nasa.nasamail.p/571', 1),\n",
       " (u'/elv/SCOUT/scout.gif', 3),\n",
       " (u'/images/bluemarb.gif', 2),\n",
       " (u'/images/shuttle-patch-logo.gif', 10),\n",
       " (u'/shuttle/missions/sts-68/news/sts-68-mcc-10.txt', 1),\n",
       " (u'/shuttle/missions/sts-59/movies/', 1),\n",
       " (u'/shuttle/missions/sts-70/images/woodpecker-on-et.gif', 1),\n",
       " (u'/software/winvn/faq/WINVNFAQ-II-4.html', 1),\n",
       " (u'/ksc.html', 45),\n",
       " (u'/shuttle/missions/sts-59/sounds/', 1),\n",
       " (u'/shuttle/missions/51-j/51-j-patch-small.gif', 1),\n",
       " (u'/shuttle/countdown/countdown70.html', 1),\n",
       " (u'/history/apollo/pad-abort-test-1/pad-abort-test-1.html', 1),\n",
       " (u'/shuttle/technology/sts-newsref/sts-lcc.html', 1),\n",
       " (u'/software/winvn/userguide/1_1.htm', 1),\n",
       " (u'/history/apollo/a-003/a-003.html', 1),\n",
       " (u'/shuttle/missions/sts-68/news/sts-68-mcc-18.txt', 1),\n",
       " (u'/shuttle/missions/sts-59/sts-59-info.html', 1),\n",
       " (u'/shuttle/missions/sts-44/mission-sts-44.html', 1),\n",
       " (u'/shuttle/missions/sts-26/sts-26-patch-small.gif', 1),\n",
       " (u'/history/apollo/apollo-13/movies/apo13damage.mpg', 2),\n",
       " (u'/shuttle/resources/orbiters/enterprise.html', 1),\n",
       " (u'/software/winvn/wvsmall.gif', 27),\n",
       " (u'/shuttle/technology/images/srb_mod_compare_3-small.gif', 5),\n",
       " (u'/history/apollo/apollo-8/images/68HC870.GIF', 1),\n",
       " (u'/shuttle/missions/sts-70/images/DSC-95EC-0001.jpg', 8),\n",
       " (u'/shuttle/missions/sts-70/images/KSC-95EC-1018.gif', 1),\n",
       " (u'/history/skylab/skylab-logo.gif', 2),\n",
       " (u'/shuttle/technology/sts-newsref/centers.html', 1),\n",
       " (u'/shuttle/missions/sts-26/mission-sts-26.html', 2),\n",
       " (u'/statistics/images/statsm.gif', 1),\n",
       " (u'/shuttle/missions/sts-71/movies/sts-71-mir-dock.mpg', 1),\n",
       " (u'/shuttle/missions/sts-68/sounds/', 1),\n",
       " (u'/shuttle/technology/sts-newsref/spacelab.html', 1),\n",
       " (u'/shuttle/resources/orbiters/columbia-logo.gif', 5),\n",
       " (u'/cgi-bin/imagemap/countdown70?343,289', 1),\n",
       " (u'/shuttle/missions/sts-70/mission-sts-70.html', 28),\n",
       " (u'/shuttle/missions/sts-68/news/sts-68-mcc-16.txt', 1),\n",
       " (u'/cgi-bin/imagemap/fr', 1),\n",
       " (u'/shuttle/resources/orbiters/discovery.html', 12),\n",
       " (u'/shuttle/missions/sts-73/sts-73-patch-small.gif', 3),\n",
       " (u'/shuttle/missions/sts-70/images/KSC-95EC-1014.jpg', 1),\n",
       " (u'/cgi-bin/imagemap/countdown70?242,281', 1),\n",
       " (u'/shuttle/missions/sts-71/images/KSC-95EC-0946.gif', 1),\n",
       " (u'/images/MOSAIC-logosmall.gif', 122),\n",
       " (u'/images/launchmedium.gif', 50),\n",
       " (u'/images/ksclogo.gif', 4),\n",
       " (u'/shuttle/missions/sts-70/images/images.html', 17),\n",
       " (u'/shuttle/missions/sts-71/images/KSC-95EC-0882.gif', 1),\n",
       " (u'/history/apollo/apollo-1/apollo-1-patch-small.gif', 1),\n",
       " (u'/images/NASA-logosmall.gif', 160),\n",
       " (u'/shuttle/missions/sts-78/sts-78-patch-small.gif', 1),\n",
       " (u'/history/apollo/images/footprint-small.gif', 25),\n",
       " (u'/shuttle/missions/sts-70/movies/movies.html', 13),\n",
       " (u'/cgi-bin/imagemap/countdown70?285,291', 1),\n",
       " (u'/history/apollo/apollo-8/images/68HC731.GIF', 1),\n",
       " (u'/shuttle/missions/sts-70/images/KSC-95EC-0768.jpg', 1),\n",
       " (u'/history/apollo/apollo-13/apollo-13-patch-small.gif', 21),\n",
       " (u'/', 85),\n",
       " (u'/shuttle/missions/sts-40/sts-40-patch-small.gif', 1),\n",
       " (u'/shuttle/missions/sts-53/movies/sts-53-launch.mpg', 1),\n",
       " (u'/shuttle/missions/sts-70/images/KSC-95EC-1057.jpg', 1),\n",
       " (u'/statistics/1994/Dec/Dec94_archive.html', 1),\n",
       " (u'/software/winvn/userguide/1_2.htm', 2),\n",
       " (u'/statistics/statistics.html', 1),\n",
       " (u'/htbin/wais.pl?winvn', 1),\n",
       " (u'/shuttle/missions/sts-68/news/sts-68-mcc-12.txt', 1),\n",
       " (u'/history/apollo/apollo-1/movies/', 1),\n",
       " (u'/statistics/images/getstats_big.gif', 1),\n",
       " (u'/icon/constr.gif', 2),\n",
       " (u'/images/vab-medium.gif', 1),\n",
       " (u'/software/viewers/', 1),\n",
       " (u'/software/winvn/faq/WINVNFAQ-I-5.html', 2),\n",
       " (u'/images/KSC-94EC-412-small.gif', 2),\n",
       " (u'/history/apollo/apollo-7/apollo-7.html', 1),\n",
       " (u'/shuttle/missions/sts-70/sts-70-patch-small.gif', 34),\n",
       " (u'/history/apollo/apollo-11/apollo-11-patch-small.gif', 9),\n",
       " (u'/shuttle/missions/sts-70/movies/sts-70-crew-arrival.mpg', 1),\n",
       " (u'/shuttle/missions/sts-63/mission-sts-63.html', 6),\n",
       " (u'/shuttle/resources/orbiters/atlantis-logo.gif', 4),\n",
       " (u'/history/apollo/sa-9/sa-9.html', 1),\n",
       " (u'/facilities/lc39a.html', 17),\n",
       " (u'/history/apollo/apollo-17/videos/', 1),\n",
       " (u'/history/apollo/apollo-17/apollo-17.html', 3),\n",
       " (u'/shuttle/missions/sts-75/sts-75-patch-small.gif', 1),\n",
       " (u'/images/opf-logo.gif', 3),\n",
       " (u'/shuttle/missions/sts-69/mission-sts-69.html', 13),\n",
       " (u'/shuttle/missions/sts-68/ksc-srl-image.html', 3),\n",
       " (u'/elv/endball.gif', 4),\n",
       " (u'/software/winvn/readme.txt', 1),\n",
       " (u'/shuttle/missions/sts-70/images/KSC-95EC-1014.gif', 1),\n",
       " (u'/history/apollo/apollo-8/apollo-8-info.html', 1),\n",
       " (u'/software/winvn/bluemarb.gif', 25),\n",
       " (u'/history/apollo/apollo-11/images/index.gif', 1),\n",
       " (u'/shuttle/missions/sts-70/images/KSC-95EC-0667.jpg', 1),\n",
       " (u'/history/apollo/a-002/a-002.html', 1),\n",
       " (u'/shuttle/missions/sts-70/images/KSC-95EC-0515.jpg', 1),\n",
       " (u'/history/apollo/apollo-1/apollo-1-info.html', 2),\n",
       " (u'/elv/TITAN/titan.gif', 3),\n",
       " (u'/history/gemini/movies/gemini-launch.mpg', 2),\n",
       " (u'/facilities/crawler.html', 2),\n",
       " (u'/facilities/tour.html', 1),\n",
       " (u'/elv/DELTA/del181s.gif', 2),\n",
       " (u'/shuttle/missions/sts-70/images/KSC-95EC-1013.jpg', 1),\n",
       " (u'/history/apollo/', 1),\n",
       " (u'/mdss/dcy2.gif', 2),\n",
       " (u'/shuttle/missions/sts-68/news/sts-68-mcc-05.txt', 1),\n",
       " (u'/cgi-bin/imagemap/countdown70?189,292', 1),\n",
       " (u'/shuttle/missions/sts-74/sts-74-patch-small.gif', 2),\n",
       " (u'/shuttle/missions/sts-70/images/KSC-95EC-1013.txt', 1),\n",
       " (u'/shuttle/technology/images/srb_mod_compare_1-small.gif', 5),\n",
       " (u'/images/ksclogo-medium.gif', 106),\n",
       " (u'/shuttle/missions/sts-71/images/KSC-95EC-0873.jpg', 1),\n",
       " (u'/shuttle/missions/sts-71/images/KSC-95EC-0951.gif', 1),\n",
       " (u'/software/winvn/userguide/winvn1.gif', 3),\n",
       " (u'/images/mlp.gif', 3),\n",
       " (u'/cgi-bin/imagemap/countdown70?400,293', 1),\n",
       " (u'/history/apollo/images/little-joe.gif', 3),\n",
       " (u'/history/apollo/apollo-17/', 1),\n",
       " (u'/shuttle/technology/images/srb_16-small.gif', 2),\n",
       " (u'/shuttle/missions/sts-66/sts-66-patch-small.gif', 4),\n",
       " (u'/shuttle/missions/sts-70/images/KSC-95EC-0575.gif', 1),\n",
       " (u'/history/apollo/as-201/as-201.html', 1),\n",
       " (u'/history/apollo/sa-3/sa-3.html', 1),\n",
       " (u'/shuttle/missions/sts-68/news/sts-68-mcc-14.txt', 1),\n",
       " (u'/shuttle/missions/sts-66/mission-sts-66.html', 4),\n",
       " (u'/elv/elvhead2.gif', 4),\n",
       " (u'/cgi-bin/imagemap/countdown70?192,295', 1),\n",
       " (u'/cgi-bin/imagemap/fr?0,0', 1),\n",
       " (u'/elv/elvhead3.gif', 3),\n",
       " (u'/shuttle/missions/sts-75/mission-sts-75.html', 2),\n",
       " (u'/shuttle/technology/sts-newsref/et.html', 2),\n",
       " (u'/history/apollo/apollo-1/docs/', 1),\n",
       " (u'/shuttle/technology/sts-newsref/stsover.html', 2),\n",
       " (u'/facilities/cdsc.html', 1),\n",
       " (u'/shuttle/countdown/countdown.html', 17),\n",
       " (u'/shuttle/resources/orbiters/discovery.gif', 1),\n",
       " (u'/software/winvn/faq/WINVNFAQ-I-10.html', 2),\n",
       " (u'/shuttle/missions/51-c/51-c-patch-small.gif', 1),\n",
       " (u'/images/landing-logo.gif', 1),\n",
       " (u'/images/mercury-logo.gif', 5),\n",
       " (u'/shuttle/missions/sts-71/sts-71-day-01-highlights.html', 1),\n",
       " (u'/shuttle/missions/41-b/41-b-patch-small.gif', 1),\n",
       " (u'/cgi-bin/newwvn-mail.pl', 2),\n",
       " (u'/shuttle/missions/51-c/mission-51-c.html', 1),\n",
       " (u'/images/de-logo.gif', 1),\n",
       " (u'/software/', 1),\n",
       " (u'/images/launch-logo.gif', 69),\n",
       " (u'/history/apollo/apollo-13.html', 1),\n",
       " (u'/cgi-bin/imagemap/countdown70?52,219', 1),\n",
       " (u'/history/apollo/a-004/movies/', 1),\n",
       " (u'/software/winvn/faq/WINVNFAQ-I-8.html', 1),\n",
       " (u'/images/flight-deck.gif', 1),\n",
       " (u'/shuttle/technology/images/et-intertank_1-small.gif', 1),\n",
       " (u'/shuttle/technology/sts-newsref/sts-mps.html', 3),\n",
       " (u'/shuttle/missions/sts-63/images/', 1),\n",
       " (u'/htbin/wais.pl?SAREX', 1),\n",
       " (u'/history/apollo/images/apollo-logo.gif', 13),\n",
       " (u'/shuttle/missions/sts-71/images/KSC-95EC-0913.jpg', 2),\n",
       " (u'/shuttle/technology/sts-newsref/sts_mes.html', 4),\n",
       " (u'/history/apollo/apollo-13/apollo-13.html', 25),\n",
       " (u'/shuttle/technology/sts-newsref/stsref-toc.html', 13),\n",
       " (u'/shuttle/missions/sts-70/sts-70-day-03-highlights.html', 1),\n",
       " (u'/history/apollo/apollo-12/movies/', 7),\n",
       " (u'/shuttle/missions/51-l/', 1),\n",
       " (u'/shuttle/missions/sts-71/images/KSC-95EC-0911.gif', 2),\n",
       " (u'/htbin/wais.pl', 3),\n",
       " (u'/shuttle/missions/sts-71/images/KSC-95EC-0423.jpg', 1),\n",
       " (u'/shuttle/countdown/lps/osr/osr.html', 1),\n",
       " (u'/shuttle/missions/sts-68/news/sts-68-mcc-07.txt', 1),\n",
       " (u'/history/apollo/apollo-12/sounds/', 2),\n",
       " (u'/shuttle/missions/sts-71/movies/sts-71-hand-shake.mpg', 1),\n",
       " (u'/software/winvn/faq/WINVNFAQ-I-3.html', 1),\n",
       " (u'/history/skylab/skylab-4-small.gif', 1),\n",
       " (u'/history/apollo/apollo-12/apollo-12-patch.jpg', 1),\n",
       " (u'/shuttle/missions/sts-69/', 1),\n",
       " (u'/shuttle/missions/sts-69/sts-69-patch-small.gif', 9),\n",
       " (u'/cgi-bin/imagemap/countdown70?350,393', 1),\n",
       " (u'/shuttle/missions/sts-59/docs/', 2),\n",
       " (u'/shuttle/missions/sts-59/', 5),\n",
       " (u'/history/apollo/apollo-1/images/67HC33a.gif', 1),\n",
       " (u'/shuttle/missions/sts-71/images/KSC-95EC-0948.jpg', 1),\n",
       " (u'/shuttle/missions/sts-70/images/KSC-95EC-1056.gif', 1),\n",
       " (u'/shuttle/technology/sts-newsref/carriers.html', 2),\n",
       " (u'/history/apollo/images/footprint-logo.gif', 32),\n",
       " (u'/history/apollo/sa-4/sa-4.html', 1),\n",
       " (u'/mdss/s_md-2.gif', 2),\n",
       " (u'/software/winvn/userguide/wvnguide.gif', 2),\n",
       " (u'/cgi-bin/imagemap/countdown70?66,187', 1),\n",
       " (u'/shuttle/missions/sts-70/images/KSC-95EC-0515.gif', 3),\n",
       " (u'/shuttle/countdown/lps/fr.gif', 7),\n",
       " (u'/shuttle/countdown/lps/back.gif', 6),\n",
       " (u'/facts/launch-pass.txt', 1),\n",
       " (u'/shuttle/missions/sts-71/movies/crew-arrival.mpg', 1)]"
      ]
     },
     "execution_count": 25,
     "metadata": {},
     "output_type": "execute_result"
    }
   ],
   "source": [
    "endpointToCount=access_logs.map(lambda x: [x.endpoint,1]).reduceByKey(lambda a,b: a+b)\n",
    "endpointToCount.collect()"
   ]
  },
  {
   "cell_type": "code",
   "execution_count": 26,
   "metadata": {
    "collapsed": false
   },
   "outputs": [
    {
     "data": {
      "text/plain": [
       "[(u'/images/KSC-logosmall.gif', 167),\n",
       " (u'/images/NASA-logosmall.gif', 160),\n",
       " (u'/images/MOSAIC-logosmall.gif', 122),\n",
       " (u'/images/WORLD-logosmall.gif', 120),\n",
       " (u'/images/USA-logosmall.gif', 118),\n",
       " (u'/images/ksclogo-medium.gif', 106),\n",
       " (u'/', 85),\n",
       " (u'/history/apollo/images/apollo-logo1.gif', 74),\n",
       " (u'/images/launch-logo.gif', 69),\n",
       " (u'/images/ksclogosmall.gif', 66)]"
      ]
     },
     "execution_count": 26,
     "metadata": {},
     "output_type": "execute_result"
    }
   ],
   "source": [
    "#ordenar de mayor a menor\n",
    "endpointCountOrder=endpointToCount.sortBy(lambda b: b[1], ascending=False)\n",
    "endpointCountOrder.take(10)"
   ]
  },
  {
   "cell_type": "markdown",
   "metadata": {
    "collapsed": true
   },
   "source": [
    "# 5. Los 10 endpoint más visitados que no tienen código respuesta =200"
   ]
  },
  {
   "cell_type": "code",
   "execution_count": 27,
   "metadata": {
    "collapsed": false
   },
   "outputs": [
    {
     "data": {
      "text/plain": [
       "[[200, u'/shuttle/missions/sts-68/news/sts-68-mcc-05.txt'],\n",
       " [304, u'/'],\n",
       " [304, u'/images/ksclogo-medium.gif'],\n",
       " [304, u'/images/MOSAIC-logosmall.gif'],\n",
       " [304, u'/images/USA-logosmall.gif'],\n",
       " [200, u'/images/launch-logo.gif'],\n",
       " [304, u'/images/WORLD-logosmall.gif'],\n",
       " [200, u'/history/skylab/skylab.html'],\n",
       " [200, u'/images/launchmedium.gif'],\n",
       " [200, u'/history/skylab/skylab-small.gif']]"
      ]
     },
     "execution_count": 27,
     "metadata": {},
     "output_type": "execute_result"
    }
   ],
   "source": [
    "#responseCode=access_logs.map(lambda (x,y): (x.response_code, y.endpoint)).take(2)\n",
    "responseEndCode=access_logs.map(lambda x:[x.response_code, x.endpoint])\n",
    "responseEndCode.take(10)\n",
    "#la primera componente es la de response_code y la segunda la de endpoint"
   ]
  },
  {
   "cell_type": "code",
   "execution_count": 28,
   "metadata": {
    "collapsed": false
   },
   "outputs": [
    {
     "data": {
      "text/plain": [
       "[[304, u'/'],\n",
       " [304, u'/images/ksclogo-medium.gif'],\n",
       " [304, u'/images/MOSAIC-logosmall.gif'],\n",
       " [304, u'/images/USA-logosmall.gif'],\n",
       " [304, u'/images/WORLD-logosmall.gif'],\n",
       " [304, u'/images/NASA-logosmall.gif'],\n",
       " [304, u'/images/NASA-logosmall.gif'],\n",
       " [304, u'/images/MOSAIC-logosmall.gif'],\n",
       " [304, u'/images/USA-logosmall.gif'],\n",
       " [304, u'/images/WORLD-logosmall.gif']]"
      ]
     },
     "execution_count": 28,
     "metadata": {},
     "output_type": "execute_result"
    }
   ],
   "source": [
    "#filtro quitando los elementos tales que su primera componente sea distinta de 200\n",
    "responseEndCode=access_logs.map(lambda x:[x.response_code, x.endpoint]).filter(lambda x: x[0]!=200)\n",
    "responseEndCode.take(10)"
   ]
  },
  {
   "cell_type": "code",
   "execution_count": 29,
   "metadata": {
    "collapsed": false
   },
   "outputs": [
    {
     "data": {
      "text/plain": [
       "[(u'/images/NASA-logosmall.gif', 25),\n",
       " (u'/images/KSC-logosmall.gif', 24),\n",
       " (u'/images/WORLD-logosmall.gif', 17),\n",
       " (u'/images/MOSAIC-logosmall.gif', 17),\n",
       " (u'/images/USA-logosmall.gif', 16),\n",
       " (u'/images/ksclogo-medium.gif', 10),\n",
       " (u'/software/winvn/winvn.html', 8),\n",
       " (u'/images/construct.gif', 8),\n",
       " (u'/software/winvn/bluemarb.gif', 8),\n",
       " (u'/software/winvn/wvsmall.gif', 6)]"
      ]
     },
     "execution_count": 29,
     "metadata": {},
     "output_type": "execute_result"
    }
   ],
   "source": [
    "#una vez que ya he filtrado por los que son distintos de 200, me quedo solo con la componente endpoint\n",
    "# y aplico lo mismo que en el apartado anterior\n",
    "EndCount=responseEndCode.map(lambda x:(x[1],1)).reduceByKey(lambda a,b: a+b).sortBy(lambda b: b[1], ascending=False)\n",
    "EndCount.take(10)"
   ]
  },
  {
   "cell_type": "markdown",
   "metadata": {},
   "source": [
    "# 6. Calcular el número de hosts distintos"
   ]
  },
  {
   "cell_type": "code",
   "execution_count": 55,
   "metadata": {
    "collapsed": false
   },
   "outputs": [
    {
     "data": {
      "text/plain": [
       "311"
      ]
     },
     "execution_count": 55,
     "metadata": {},
     "output_type": "execute_result"
    }
   ],
   "source": [
    "NdiferenthostCode=access_logs.map(lambda x: (x.host,1)).reduceByKey(lambda a,b: a+b)\n",
    "\n",
    "numero=NdiferenthostCode.count()\n",
    "numero"
   ]
  },
  {
   "cell_type": "markdown",
   "metadata": {},
   "source": [
    "# 7. Contar el número de hosts únicos cada día"
   ]
  },
  {
   "cell_type": "code",
   "execution_count": 31,
   "metadata": {
    "collapsed": false
   },
   "outputs": [
    {
     "data": {
      "text/plain": [
       "[Row(client_identd=u'-', content_size=1839L, date_time=datetime.datetime(1995, 8, 1, 0, 0, 1), endpoint=u'/shuttle/missions/sts-68/news/sts-68-mcc-05.txt', host=u'in24.inetnebr.com', method=u'GET', protocol=u'HTTP/1.0', response_code=200, user_id=u'-')]"
      ]
     },
     "execution_count": 31,
     "metadata": {},
     "output_type": "execute_result"
    }
   ],
   "source": [
    "#una linea del fichero de lectura\n",
    "#in24.inetnebr.com - - [01/Aug/1995:00:00:01 -0400] \"GET /shuttle/missions/sts-68/news/sts-68-mcc-05.txt HTTP/1.0\" 200 1839\n",
    "#voy a ver como escribe la fecha cuando he leído el fichero\n",
    "access_logs.take(1)"
   ]
  },
  {
   "cell_type": "code",
   "execution_count": 40,
   "metadata": {
    "collapsed": false
   },
   "outputs": [
    {
     "data": {
      "text/plain": [
       "[(1, 3432)]"
      ]
     },
     "execution_count": 40,
     "metadata": {},
     "output_type": "execute_result"
    }
   ],
   "source": [
    "#Se puede observar como lee la fecha 1 de agosto de 1995:: datetime(año, mes, día, horas, minutos, segundos)\n",
    "\n",
    "#Primero, voy a ver el número de dias que hay para tener una idea:\n",
    "\n",
    "NdaydifCode=access_logs.map(lambda x:(x.date_time.day,1)).reduceByKey(lambda a,b: a+b)\n",
    "NdaydifCode.collect()\n",
    "\n",
    "# 3432 son el numero de filas que hay de observaciones en nuestra muestra"
   ]
  },
  {
   "cell_type": "markdown",
   "metadata": {},
   "source": [
    "==>Todos son el dia 1, luego habra el mismo numero de hosts únicos que en el apartado anterior, 311 para el día 1"
   ]
  },
  {
   "cell_type": "markdown",
   "metadata": {},
   "source": [
    "# 8. Calcular la media de peticiones diarias por host"
   ]
  },
  {
   "cell_type": "code",
   "execution_count": 54,
   "metadata": {
    "collapsed": false
   },
   "outputs": [
    {
     "data": {
      "text/plain": [
       "[(u'dd12-062.compuserve.com', 2),\n",
       " (u'ednet1.osl.or.gov', 2),\n",
       " (u'202.70.0.128', 1),\n",
       " (u'www-d1.proxy.aol.com', 39),\n",
       " (u'www-c1.proxy.aol.com', 30),\n",
       " (u'cmr2w1.cc.nda.ac.jp', 11),\n",
       " (u'ncg-85.axionet.com', 5),\n",
       " (u'stockyard21.onramp.net', 6),\n",
       " (u'pppa012.compuserve.com', 9),\n",
       " (u'sanantonio-1-5.i-link.net', 8),\n",
       " (u'engei.engei-hs.oyama.tochigi.jp', 10),\n",
       " (u'wtaskr1.ccinet.ab.ca', 9),\n",
       " (u'sprite131.azstarnet.com', 5),\n",
       " (u'198.161.85.36', 1),\n",
       " (u'lutzp.tigernet.net', 12),\n",
       " (u'ix-dgr-il1-15.ix.netcom.com', 7),\n",
       " (u'ppp20.pacificrim.net', 3),\n",
       " (u'ix-dfw12-08.ix.netcom.com', 17),\n",
       " (u'ncg-69.axionet.com', 12),\n",
       " (u'eris139.mayo.edu', 1),\n",
       " (u'koriel.sun.com', 1),\n",
       " (u'scctn02.sp.ac.sg', 3),\n",
       " (u'128.135.36.35', 12),\n",
       " (u'pm054-29.dialip.mich.net', 4),\n",
       " (u'dialip129.gov.bc.ca', 21),\n",
       " (u'pm9.j51.com', 28),\n",
       " (u'dynamic-ara3.csuchico.edu', 1),\n",
       " (u'csclass.utdallas.edu', 1),\n",
       " (u'cc-sst-mg1-dip1-12.massey.ac.nz', 5),\n",
       " (u'dialip-24.athenet.net', 1),\n",
       " (u'delorme.richard.i4e000.ic.gc.ca', 4),\n",
       " (u'31.dn258-lab.marist.edu', 9),\n",
       " (u'igate.uswest.com', 4),\n",
       " (u'mallard2.duc.auburn.edu', 16),\n",
       " (u'dd15-053.compuserve.com', 11),\n",
       " (u'dd10-046.compuserve.com', 13),\n",
       " (u'pm6a3.sover.net', 11),\n",
       " (u'204.251.93.247', 6),\n",
       " (u'ix-ftc-co1-23.ix.netcom.com', 4),\n",
       " (u'hayes.worldgate.com', 7),\n",
       " (u'k12.oit.umass.edu', 1),\n",
       " (u'204.248.155.42', 4),\n",
       " (u'tyo1.gate.nec.co.jp', 2),\n",
       " (u'netcom19.netcom.com', 1),\n",
       " (u'www-d4.proxy.aol.com', 6),\n",
       " (u'www-b2.proxy.aol.com', 40),\n",
       " (u'itws.info.eng.niigata-u.ac.jp', 14),\n",
       " (u'ix-aus4-15.ix.netcom.com', 13),\n",
       " (u'ai.asu.edu', 6),\n",
       " (u'dialup515.washington.mci.net', 7),\n",
       " (u'gatekeeper.us.oracle.com', 9),\n",
       " (u'phoenix.erc.msstate.edu', 4),\n",
       " (u'ad06-061.compuserve.com', 5),\n",
       " (u'pppa006.compuserve.com', 17),\n",
       " (u'ad10-015.compuserve.com', 2),\n",
       " (u'marimo.kushiro-ct.ac.jp', 5),\n",
       " (u'ix-den6-22.ix.netcom.com', 6),\n",
       " (u'ts6-11.westwood.ts.ucla.edu', 15),\n",
       " (u'js002.cc.utsunomiya-u.ac.jp', 10),\n",
       " (u'198.189.70.111', 8),\n",
       " (u'kenko2.hyogo-ths.hyogo.kobe.jp', 20),\n",
       " (u'www-c4.proxy.aol.com', 6),\n",
       " (u'kay-abernathy.tenet.edu', 3),\n",
       " (u'www-d3.proxy.aol.com', 27),\n",
       " (u'ix-phx5-25.ix.netcom.com', 9),\n",
       " (u'dd08-050.compuserve.com', 17),\n",
       " (u'fat.coara.or.jp', 4),\n",
       " (u'hsccs_gatorbox07.unm.edu', 40),\n",
       " (u'www-c3.proxy.aol.com', 17),\n",
       " (u'206.24.43.11', 6),\n",
       " (u'134.50.205.24', 1),\n",
       " (u'piweba3y.prodigy.com', 54),\n",
       " (u'pipe1.nyc.pipeline.com', 2),\n",
       " (u'151.155.219.44', 2),\n",
       " (u'net167.metronet.com', 1),\n",
       " (u'eebw1.hike.te.chiba-u.ac.jp', 6),\n",
       " (u'haraway.ucet.ufl.edu', 32),\n",
       " (u'port13.wavenet.com', 37),\n",
       " (u'www-d2.proxy.aol.com', 13),\n",
       " (u'wyndmoor1-7.slip.netaxs.com', 20),\n",
       " (u'slippc6.cs.nps.navy.mil', 1),\n",
       " (u'gw1.att.com', 10),\n",
       " (u'violin-05.synapse.net', 17),\n",
       " (u'centauri.tksc.nasda.go.jp', 13),\n",
       " (u'physpc9.csu.murdoch.edu.au', 10),\n",
       " (u'192.127.139.163', 5),\n",
       " (u'ts2-002.jaxnet.com', 9),\n",
       " (u'ix-cha-nc1-02.ix.netcom.com', 13),\n",
       " (u'ad14-027.compuserve.com', 16),\n",
       " (u'ip-pdx8-55.teleport.com', 9),\n",
       " (u'rpgopher.aist.go.jp', 27),\n",
       " (u'thing1.cchem.berkeley.edu', 54),\n",
       " (u'202.236.34.35', 10),\n",
       " (u'tsip52.ionet.net', 4),\n",
       " (u'slip116-154.nc.us.ibm.net', 9),\n",
       " (u'webgate1.mot.com', 1),\n",
       " (u'lib.drury.edu', 1),\n",
       " (u'd0ucr6.fnal.gov', 2),\n",
       " (u'miriworld.its.unimelb.edu.au', 19),\n",
       " (u'ras15.srv.net', 10),\n",
       " (u'199.2.139.127', 9),\n",
       " (u'ppp-06-uf-cs1.nerdc.ufl.edu', 9),\n",
       " (u'piweba4y.prodigy.com', 21),\n",
       " (u'village.islandnet.com', 1),\n",
       " (u'fp590.acs.ohio-state.edu', 16),\n",
       " (u'pwestec.sierra.net', 8),\n",
       " (u'rdr4.ccinet.ab.ca', 8),\n",
       " (u'venus.jp.convex.com', 4),\n",
       " (u'ix-sf10-28.ix.netcom.com', 12),\n",
       " (u'van15422.direct.ca', 5),\n",
       " (u'alpha2.csd.uwm.edu', 2),\n",
       " (u'ad14-040.compuserve.com', 5),\n",
       " (u'rvr0151.deltanet.com', 19),\n",
       " (u'143.158.26.50', 29),\n",
       " (u'freenet2.scri.fsu.edu', 2),\n",
       " (u'general2.asu.edu', 3),\n",
       " (u'celebrian.otago.ac.nz', 7),\n",
       " (u'133.68.18.180', 17),\n",
       " (u'ix-tf5-17.ix.netcom.com', 9),\n",
       " (u'pm00.ldl.net', 8),\n",
       " (u'ip55.van2.pacifier.com', 43),\n",
       " (u'adam.tower.com.au', 44),\n",
       " (u'cs1-06.leh.ptd.net', 19),\n",
       " (u'128.159.129.170', 18),\n",
       " (u'199.190.95.40', 12),\n",
       " (u'koala.melbpc.org.au', 5),\n",
       " (u'blv-pm11-ip17.halcyon.com', 16),\n",
       " (u'cherry.hip.berkeley.edu', 17),\n",
       " (u'ras38.srv.net', 17),\n",
       " (u'202.30.120.241', 3),\n",
       " (u'www-c8.proxy.aol.com', 2),\n",
       " (u'ann06.bcit.bc.ca', 4),\n",
       " (u'137.132.246.148', 12),\n",
       " (u'38.10.180.30', 1),\n",
       " (u'168.78.14.166', 24),\n",
       " (u'dws.urz.uni-magdeburg.de', 13),\n",
       " (u'c3.reach.net', 6),\n",
       " (u'metabelis.rmit.edu.au', 1),\n",
       " (u'slip9-162.beta.delphi.com', 3),\n",
       " (u'kingston-ts-16.nstn.ca', 10),\n",
       " (u'alyssa.prodigy.com', 7),\n",
       " (u'204.199.188.113', 12),\n",
       " (u'ppp1016.po.iijnet.or.jp', 41),\n",
       " (u'novalord.nova.co.jp', 2),\n",
       " (u'165.213.131.21', 2),\n",
       " (u'206.42.178.29', 12),\n",
       " (u'linda.teleport.com', 1),\n",
       " (u'in2pc2.med.niigata-u.ac.jp', 14),\n",
       " (u's334767.slip.cc.uq.oz.au', 1),\n",
       " (u'134.h-pm2.vgs3.westel.com', 9),\n",
       " (u'llam.interlog.com', 7),\n",
       " (u'stockyard17.onramp.net', 24),\n",
       " (u'ppp33.asahi-net.or.jp', 11),\n",
       " (u'van10275.direct.ca', 1),\n",
       " (u'extra.ucc.su.oz.au', 1),\n",
       " (u'cs1-08.leh.ptd.net', 23),\n",
       " (u'hella.stm.it', 10),\n",
       " (u'erigate.ericsson.se', 6),\n",
       " (u'mccaughey-thoma.eigenmann.indiana.edu', 8),\n",
       " (u'dd08-029.compuserve.com', 5),\n",
       " (u'sakura.crl.go.jp', 21),\n",
       " (u'ip-pdx6-54.teleport.com', 6),\n",
       " (u'ppp8.montrealnet.ca', 8),\n",
       " (u'mtv-pm0-ip4.halcyon.com', 8),\n",
       " (u'term1-24.sb.west.net', 29),\n",
       " (u'199.2.139.104', 7),\n",
       " (u'h96-158.ccnet.com', 56),\n",
       " (u'slppp6.intermind.net', 7),\n",
       " (u'slip4086.sirius.com', 9),\n",
       " (u'ad03-053.compuserve.com', 13),\n",
       " (u'pc-heh.icl.dk', 33),\n",
       " (u'mcnaught.chem.su.oz.au', 9),\n",
       " (u'in24.inetnebr.com', 55),\n",
       " (u'unix.adeptcom.com', 9),\n",
       " (u'203.10.76.34', 2),\n",
       " (u'205.160.164.19', 8),\n",
       " (u'info.telenor.no', 15),\n",
       " (u'chuken02.shinshu-u.ac.jp', 17),\n",
       " (u'remote.redzone.com', 12),\n",
       " (u'smtp.inet.fi', 9),\n",
       " (u'dialup12.leuven.eunet.be', 12),\n",
       " (u'etapps.tech.iupui.edu', 2),\n",
       " (u'133.102.242.50', 8),\n",
       " (u'205.161.163.25', 21),\n",
       " (u'van10271.direct.ca', 9),\n",
       " (u'ix-wh3-26.ix.netcom.com', 4),\n",
       " (u'jericho2.microsoft.com', 10),\n",
       " (u'ppp24.compumedia.com', 5),\n",
       " (u'grimnet23.idirect.com', 10),\n",
       " (u'interchg.ubc.ca', 1),\n",
       " (u'server.indo.net.id', 1),\n",
       " (u'sutnbgw1.ed.noda.sut.ac.jp', 1),\n",
       " (u'tchm05a10.rmt.utk.edu', 5),\n",
       " (u'reggae.iinet.net.au', 8),\n",
       " (u'ppp3_069.bekkoame.or.jp', 12),\n",
       " (u'rs31-annex3.sfu.ca', 6),\n",
       " (u'www-a2.proxy.aol.com', 10),\n",
       " (u'dial3-15.midwest.net', 9),\n",
       " (u'tribeca.ios.com', 1),\n",
       " (u'rainbow.mts.chiba-u.ac.jp', 14),\n",
       " (u'ix-ir8-22.ix.netcom.com', 24),\n",
       " (u'wedding.eznet.com', 9),\n",
       " (u'loose.apana.org.au', 1),\n",
       " (u'dd12-003.compuserve.com', 6),\n",
       " (u'van15423.direct.ca', 9),\n",
       " (u'van13383.direct.ca', 9),\n",
       " (u'rd-p19.supernet.ab.ca', 8),\n",
       " (u'158.104.96.2', 10),\n",
       " (u'picard.cistron.nl', 1),\n",
       " (u'wwwproxy.info.au', 13),\n",
       " (u'vcc7.langara.bc.ca', 8),\n",
       " (u'futurcom.nai.net', 8),\n",
       " (u'ix-dc7-17.ix.netcom.com', 10),\n",
       " (u'dd14-077.compuserve.com', 1),\n",
       " (u'linuser19.li.net', 9),\n",
       " (u'paranet.iea.com', 5),\n",
       " (u'grail911.nando.net', 8),\n",
       " (u'dd01-045.compuserve.com', 3),\n",
       " (u'202.39.180.8', 6),\n",
       " (u'uplherc.upl.com', 71),\n",
       " (u'async59.ts-p-caps.caps.maine.edu', 10),\n",
       " (u'maui56.maui.net', 23),\n",
       " (u'cisco-slip3.acc.virginia.edu', 9),\n",
       " (u'bdmgate.bdm.com', 9),\n",
       " (u'www-b3.proxy.aol.com', 27),\n",
       " (u'palpk-s13.intac.com', 18),\n",
       " (u'roy.u-gakugei.ac.jp', 15),\n",
       " (u'stockyard58.onramp.net', 24),\n",
       " (u'dd09-012.compuserve.com', 21),\n",
       " (u'slip-4-12.ots.utexas.edu', 5),\n",
       " (u'ix-min1-02.ix.netcom.com', 78),\n",
       " (u'dialup005.continet.com', 8),\n",
       " (u'castles10.castles.com', 18),\n",
       " (u'ip-pdx8-00.teleport.com', 2),\n",
       " (u'bettong.client.uq.oz.au', 11),\n",
       " (u'www-c6.proxy.aol.com', 11),\n",
       " (u'mars.sunmtm.kuleuven.ac.be', 6),\n",
       " (u'hun8.ramlink.net', 5),\n",
       " (u'204.62.245.32', 1),\n",
       " (u'ix-esc-ca1-27.ix.netcom.com', 5),\n",
       " (u'slip27.cei.net', 9),\n",
       " (u'ykline6.internorth.com', 3),\n",
       " (u'ns2.sharp.co.jp', 6),\n",
       " (u'131.235.117.31', 5),\n",
       " (u'beauty.noc.fujita-hu.ac.jp', 1),\n",
       " (u'kctm.kagoshima-ct.ac.jp', 17),\n",
       " (u'gwa.ericsson.com', 4),\n",
       " (u'dd08-043.compuserve.com', 16),\n",
       " (u'205.199.120.118', 10),\n",
       " (u'drjo011a043.embratel.net.br', 2),\n",
       " (u'129.94.208.17', 7),\n",
       " (u'133.43.106.47', 6),\n",
       " (u'netcom21.netcom.com', 22),\n",
       " (u'nit1.mains.nitech.ac.jp', 13),\n",
       " (u'kentnet.dtcc.edu', 1),\n",
       " (u'sac1-100.calweb.com', 5),\n",
       " (u'ad11-013.compuserve.com', 3),\n",
       " (u'ix-sf8-22.ix.netcom.com', 1),\n",
       " (u'ip-pdx4-15.teleport.com', 4),\n",
       " (u'198.248.59.123', 9),\n",
       " (u'tia1.eskimo.com', 11),\n",
       " (u'193.84.66.147', 31),\n",
       " (u'ppp0001.po.iijnet.or.jp', 4),\n",
       " (u'205.163.36.61', 7),\n",
       " (u'columbia.acc.brad.ac.uk', 6),\n",
       " (u'204.227.13.21', 3),\n",
       " (u'xslip47.csrv.uidaho.edu', 10),\n",
       " (u'ppp28.modems.uoknor.edu', 2),\n",
       " (u'rickc.seanet.com', 5),\n",
       " (u'dialup34.aloha.com', 9),\n",
       " (u'bonnou.lab.kdd.co.jp', 19),\n",
       " (u'kgtyk4.kj.yamagata-u.ac.jp', 6),\n",
       " (u'patches.jpl.nasa.gov', 1),\n",
       " (u'ix-sd6-29.ix.netcom.com', 6),\n",
       " (u'wailua.keck.hawaii.edu', 7),\n",
       " (u'133.43.96.45', 37),\n",
       " (u'dialup-2-139.gw.umn.edu', 29),\n",
       " (u'www-b5.proxy.aol.com', 28),\n",
       " (u'comm17p14.stcloud.msus.edu', 1),\n",
       " (u'edmcfb.yed.ab.doe.ca', 1),\n",
       " (u'ix-lb8-25.ix.netcom.com', 8),\n",
       " (u'prakinf2.prakinf.tu-ilmenau.de', 14),\n",
       " (u'server.elysian.net', 2),\n",
       " (u'thunderbox.ho.bom.gov.au', 2),\n",
       " (u'empedocles.cfar.umd.edu', 1),\n",
       " (u'piweba1y.prodigy.com', 26),\n",
       " (u'line10.pm1.abb.mindlink.net', 11),\n",
       " (u'mac19.ils.uec.ac.jp', 14),\n",
       " (u'194.166.12.17', 1),\n",
       " (u'beglinger.dial-up.bdt.com', 14),\n",
       " (u'mail.cmsi-emd.com', 6),\n",
       " (u'www-a1.proxy.aol.com', 23),\n",
       " (u'139.230.35.135', 17),\n",
       " (u'194.157.109.130', 3),\n",
       " (u'gregver.cais.com', 9),\n",
       " (u'ncg-72.axionet.com', 3),\n",
       " (u'line114.nwm.mindlink.net', 9),\n",
       " (u'osc_pc3.79.242.202.in-addr.arpa', 4),\n",
       " (u'ix-esc-ca2-07.ix.netcom.com', 6),\n",
       " (u'iijgate.hskiij.hitachi-sk.co.jp', 7),\n",
       " (u'ix-aa1-04.ix.netcom.com', 2),\n",
       " (u'sunset.somcau.siu.edu', 5),\n",
       " (u'gikai.eng.nhk.or.jp', 3),\n",
       " (u'port42.ts2.msstate.edu', 4),\n",
       " (u'pme609.onramp.awinc.com', 22),\n",
       " (u'ix-sea6-23.ix.netcom.com', 9),\n",
       " (u'roseanne06.slip.yorku.ca', 4),\n",
       " (u'ad11-061.compuserve.com', 13),\n",
       " (u'www-c2.proxy.aol.com', 1),\n",
       " (u'port26.ts1.msstate.edu', 59),\n",
       " (u'endeavor.fujitsu.co.jp', 11)]"
      ]
     },
     "execution_count": 54,
     "metadata": {},
     "output_type": "execute_result"
    }
   ],
   "source": [
    "#Como sólo hay un día, basta con calcular el numero de peticiones por host:\n",
    "\n",
    "NdiferenthostCode=access_logs.map(lambda x: (x.host,1)).reduceByKey(lambda a,b: a+b).collect()\n",
    "NdiferenthostCode"
   ]
  },
  {
   "cell_type": "markdown",
   "metadata": {},
   "source": [
    "# 9. Mostrar una lista de 40 endpoints que generan codigo de respuesta=404"
   ]
  },
  {
   "cell_type": "code",
   "execution_count": 56,
   "metadata": {
    "collapsed": false
   },
   "outputs": [
    {
     "data": {
      "text/plain": [
       "[u'/shuttle/resources/orbiters/discovery.gif',\n",
       " u'/pub/winvn/release.txt',\n",
       " u'/www/software/winvn/winvn.html',\n",
       " u'/history/history.htm',\n",
       " u'/elv/DELTA/uncons.htm',\n",
       " u'/sts-71/launch/',\n",
       " u'/history/apollo/apollo-13.html',\n",
       " u'/history/apollo/a-001/a-001-patch-small.gif',\n",
       " u'/history/apollo/a-001/movies/',\n",
       " u'/history/apollo/a-001/a-001-patch-small.gif',\n",
       " u'/history/apollo/a-001/movies/',\n",
       " u'/history/apollo/a-001/a-001-patch-small.gif',\n",
       " u'/history/apollo/a-001/images/',\n",
       " u'/history/apollo/a-001/a-001-patch-small.gif',\n",
       " u'/history/apollo/a-004/a-004-patch-small.gif',\n",
       " u'/history/apollo/a-004/movies/',\n",
       " u'/history/apollo/a-004/a-004-patch-small.gif',\n",
       " u'/pub/winvn/release.txt',\n",
       " u'/pub/winvn/readme.txt',\n",
       " u'/pub/winvn/release.txt',\n",
       " u'/pub/winvn/readme.txt',\n",
       " u'/pub/winvn/release.txt']"
      ]
     },
     "execution_count": 56,
     "metadata": {},
     "output_type": "execute_result"
    }
   ],
   "source": [
    "access_logs.filter(lambda x: x.response_code==404).map(lambda x: (x.endpoint)).take(40)"
   ]
  },
  {
   "cell_type": "code",
   "execution_count": 58,
   "metadata": {
    "collapsed": false
   },
   "outputs": [
    {
     "data": {
      "text/plain": [
       "[u'/history/apollo/a-001/movies/',\n",
       " u'/www/software/winvn/winvn.html',\n",
       " u'/shuttle/resources/orbiters/discovery.gif',\n",
       " u'/pub/winvn/readme.txt',\n",
       " u'/history/apollo/apollo-13.html',\n",
       " u'/history/apollo/a-001/a-001-patch-small.gif',\n",
       " u'/sts-71/launch/',\n",
       " u'/elv/DELTA/uncons.htm',\n",
       " u'/history/apollo/a-001/images/',\n",
       " u'/history/apollo/a-004/a-004-patch-small.gif',\n",
       " u'/history/apollo/a-004/movies/',\n",
       " u'/history/history.htm',\n",
       " u'/pub/winvn/release.txt']"
      ]
     },
     "execution_count": 58,
     "metadata": {},
     "output_type": "execute_result"
    }
   ],
   "source": [
    "#Veo que hay algún endpoint igual y tienen que ser distintos, por lo que falta añadir distinct()\n",
    "\n",
    "access_logs.filter(lambda x: x.response_code==404).map(lambda x: (x.endpoint)).distinct().take(40)"
   ]
  },
  {
   "cell_type": "markdown",
   "metadata": {},
   "source": [
    "# 10. Mostrar el top 25 de los endpoints distintos que generan codigo respuesta=404"
   ]
  },
  {
   "cell_type": "code",
   "execution_count": 171,
   "metadata": {
    "collapsed": false
   },
   "outputs": [
    {
     "data": {
      "text/plain": [
       "[(u'/history/apollo/a-001/a-001-patch-small.gif', 4),\n",
       " (u'/pub/winvn/release.txt', 4),\n",
       " (u'/history/apollo/a-001/movies/', 2),\n",
       " (u'/pub/winvn/readme.txt', 2),\n",
       " (u'/history/apollo/a-004/a-004-patch-small.gif', 2),\n",
       " (u'/www/software/winvn/winvn.html', 1),\n",
       " (u'/shuttle/resources/orbiters/discovery.gif', 1),\n",
       " (u'/history/apollo/apollo-13.html', 1),\n",
       " (u'/sts-71/launch/', 1),\n",
       " (u'/elv/DELTA/uncons.htm', 1),\n",
       " (u'/history/apollo/a-001/images/', 1),\n",
       " (u'/history/apollo/a-004/movies/', 1),\n",
       " (u'/history/history.htm', 1)]"
      ]
     },
     "execution_count": 171,
     "metadata": {},
     "output_type": "execute_result"
    }
   ],
   "source": [
    "access_logs.filter(lambda x: x.response_code==404).map(lambda x: (x.endpoint,1)).reduceByKey(lambda a,b: a+b).sortBy(lambda b: b[1], ascending=False).collect()"
   ]
  },
  {
   "cell_type": "markdown",
   "metadata": {},
   "source": [
    "# 11. El top 5 de días que generaron código respuesta =404"
   ]
  },
  {
   "cell_type": "code",
   "execution_count": 51,
   "metadata": {
    "collapsed": false
   },
   "outputs": [
    {
     "data": {
      "text/plain": [
       "[1, 1, 1, 1, 1]"
      ]
     },
     "execution_count": 51,
     "metadata": {},
     "output_type": "execute_result"
    }
   ],
   "source": [
    "access_logs.filter(lambda x: x.response_code==404).map(lambda x:x.date_time.day).take(5)\n",
    "# el unico dia que hay es el 1 de agosto"
   ]
  },
  {
   "cell_type": "code",
   "execution_count": null,
   "metadata": {
    "collapsed": true
   },
   "outputs": [],
   "source": []
  }
 ],
 "metadata": {
  "kernelspec": {
   "display_name": "Python 2",
   "language": "python",
   "name": "python2"
  },
  "language_info": {
   "codemirror_mode": {
    "name": "ipython",
    "version": 2
   },
   "file_extension": ".py",
   "mimetype": "text/x-python",
   "name": "python",
   "nbconvert_exporter": "python",
   "pygments_lexer": "ipython2",
   "version": "2.7.12"
  }
 },
 "nbformat": 4,
 "nbformat_minor": 2
}
